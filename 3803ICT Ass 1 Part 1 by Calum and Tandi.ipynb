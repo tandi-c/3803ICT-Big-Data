{
 "cells": [
  {
   "cell_type": "code",
   "execution_count": 1,
   "metadata": {},
   "outputs": [
    {
     "name": "stderr",
     "output_type": "stream",
     "text": [
      "C:\\Users\\tooby\\anaconda3\\lib\\site-packages\\IPython\\core\\interactiveshell.py:3063: DtypeWarning: Columns (0,4,5,6,7) have mixed types.Specify dtype option on import or set low_memory=False.\n",
      "  interactivity=interactivity, compiler=compiler, result=result)\n"
     ]
    }
   ],
   "source": [
    "# import everythign we need and read in the data\n",
    "import pandas as pd\n",
    "import matplotlib.pyplot as plt\n",
    "import numpy as np\n",
    "from itertools import cycle, islice\n",
    "from collections import Counter\n",
    "\n",
    "# ** PLEASE NOTE **\n",
    "# For this notebook, you need to upload the initial dataset provided.\n",
    "# For the following notebook, you will need to upload the .csv file that is produced at the end of this notebook.\n",
    "\n",
    "df = pd.read_csv('C:/Users/tooby/Documents/Studies/3803ICT Big Data Analysis/ass 1/data.csv')"
   ]
  },
  {
   "cell_type": "code",
   "execution_count": 2,
   "metadata": {},
   "outputs": [
    {
     "data": {
      "text/plain": [
       "Id                   object\n",
       "Title                object\n",
       "Company              object\n",
       "Date                 object\n",
       "Location             object\n",
       "Area                 object\n",
       "Classification       object\n",
       "SubClassification    object\n",
       "Requirement          object\n",
       "FullDescription      object\n",
       "LowestSalary          int64\n",
       "HighestSalary         int64\n",
       "JobType              object\n",
       "dtype: object"
      ]
     },
     "execution_count": 2,
     "metadata": {},
     "output_type": "execute_result"
    }
   ],
   "source": [
    "# check the type of data we are dealing with\n",
    "df.dtypes"
   ]
  },
  {
   "cell_type": "code",
   "execution_count": 3,
   "metadata": {},
   "outputs": [],
   "source": [
    "# fix the date and change it to date format\n",
    "df['Date'] = df['Date'].map(lambda x: x.lstrip('T').rstrip('Z'))\n",
    "df['Date'] = pd.to_datetime(df['Date'])"
   ]
  },
  {
   "cell_type": "code",
   "execution_count": 4,
   "metadata": {},
   "outputs": [
    {
     "data": {
      "text/html": [
       "<div>\n",
       "<style scoped>\n",
       "    .dataframe tbody tr th:only-of-type {\n",
       "        vertical-align: middle;\n",
       "    }\n",
       "\n",
       "    .dataframe tbody tr th {\n",
       "        vertical-align: top;\n",
       "    }\n",
       "\n",
       "    .dataframe thead th {\n",
       "        text-align: right;\n",
       "    }\n",
       "</style>\n",
       "<table border=\"1\" class=\"dataframe\">\n",
       "  <thead>\n",
       "    <tr style=\"text-align: right;\">\n",
       "      <th></th>\n",
       "      <th>Id</th>\n",
       "      <th>Title</th>\n",
       "      <th>Company</th>\n",
       "      <th>Date</th>\n",
       "      <th>Location</th>\n",
       "      <th>Area</th>\n",
       "      <th>Classification</th>\n",
       "      <th>SubClassification</th>\n",
       "      <th>Requirement</th>\n",
       "      <th>FullDescription</th>\n",
       "      <th>LowestSalary</th>\n",
       "      <th>HighestSalary</th>\n",
       "      <th>JobType</th>\n",
       "    </tr>\n",
       "  </thead>\n",
       "  <tbody>\n",
       "    <tr>\n",
       "      <th>0</th>\n",
       "      <td>37404348</td>\n",
       "      <td>Casual Stock Replenisher</td>\n",
       "      <td>Aldi Stores</td>\n",
       "      <td>2018-10-07</td>\n",
       "      <td>Sydney</td>\n",
       "      <td>North West &amp; Hills District</td>\n",
       "      <td>Retail &amp; Consumer Products</td>\n",
       "      <td>Retail Assistants</td>\n",
       "      <td>Our Casual Stock Replenishers pride themselves...</td>\n",
       "      <td>NaN</td>\n",
       "      <td>0</td>\n",
       "      <td>30</td>\n",
       "      <td>NaN</td>\n",
       "    </tr>\n",
       "    <tr>\n",
       "      <th>1</th>\n",
       "      <td>37404337</td>\n",
       "      <td>Casual Stock Replenisher</td>\n",
       "      <td>Aldi Stores</td>\n",
       "      <td>2018-10-07</td>\n",
       "      <td>Richmond &amp; Hawkesbury</td>\n",
       "      <td>NaN</td>\n",
       "      <td>Retail &amp; Consumer Products</td>\n",
       "      <td>Retail Assistants</td>\n",
       "      <td>Our Casual Stock Replenishers pride themselves...</td>\n",
       "      <td>NaN</td>\n",
       "      <td>0</td>\n",
       "      <td>30</td>\n",
       "      <td>NaN</td>\n",
       "    </tr>\n",
       "    <tr>\n",
       "      <th>2</th>\n",
       "      <td>37404356</td>\n",
       "      <td>RETAIL SALES SUPERSTARS and STYLISTS Wanted - ...</td>\n",
       "      <td>LB Creative Pty Ltd</td>\n",
       "      <td>2018-10-07</td>\n",
       "      <td>Brisbane</td>\n",
       "      <td>CBD &amp; Inner Suburbs</td>\n",
       "      <td>Retail &amp; Consumer Products</td>\n",
       "      <td>Retail Assistants</td>\n",
       "      <td>BRAND NEW FLAGSHIP STORE OPENING - SUNSHINE PLAZA</td>\n",
       "      <td>NaN</td>\n",
       "      <td>0</td>\n",
       "      <td>30</td>\n",
       "      <td>NaN</td>\n",
       "    </tr>\n",
       "    <tr>\n",
       "      <th>3</th>\n",
       "      <td>37404330</td>\n",
       "      <td>Team member - Belrose</td>\n",
       "      <td>Anaconda Group Pty Ltd</td>\n",
       "      <td>2018-10-07</td>\n",
       "      <td>Gosford &amp; Central Coast</td>\n",
       "      <td>NaN</td>\n",
       "      <td>Retail &amp; Consumer Products</td>\n",
       "      <td>Retail Assistants</td>\n",
       "      <td>Bring it on - do you love the great outdoors a...</td>\n",
       "      <td>NaN</td>\n",
       "      <td>0</td>\n",
       "      <td>30</td>\n",
       "      <td>NaN</td>\n",
       "    </tr>\n",
       "    <tr>\n",
       "      <th>4</th>\n",
       "      <td>37404308</td>\n",
       "      <td>Business Banking Contact Centre Specialist, Ni...</td>\n",
       "      <td>Commonwealth Bank - Business &amp; Private Banking</td>\n",
       "      <td>2018-10-07</td>\n",
       "      <td>Sydney</td>\n",
       "      <td>Ryde &amp; Macquarie Park</td>\n",
       "      <td>Call Centre &amp; Customer Service</td>\n",
       "      <td>Sales - Inbound</td>\n",
       "      <td>We are seeking highly articulate, enthusiastic...</td>\n",
       "      <td>NaN</td>\n",
       "      <td>0</td>\n",
       "      <td>30</td>\n",
       "      <td>NaN</td>\n",
       "    </tr>\n",
       "  </tbody>\n",
       "</table>\n",
       "</div>"
      ],
      "text/plain": [
       "         Id                                              Title  \\\n",
       "0  37404348                           Casual Stock Replenisher   \n",
       "1  37404337                           Casual Stock Replenisher   \n",
       "2  37404356  RETAIL SALES SUPERSTARS and STYLISTS Wanted - ...   \n",
       "3  37404330                              Team member - Belrose   \n",
       "4  37404308  Business Banking Contact Centre Specialist, Ni...   \n",
       "\n",
       "                                          Company       Date  \\\n",
       "0                                     Aldi Stores 2018-10-07   \n",
       "1                                     Aldi Stores 2018-10-07   \n",
       "2                             LB Creative Pty Ltd 2018-10-07   \n",
       "3                          Anaconda Group Pty Ltd 2018-10-07   \n",
       "4  Commonwealth Bank - Business & Private Banking 2018-10-07   \n",
       "\n",
       "                  Location                         Area  \\\n",
       "0                   Sydney  North West & Hills District   \n",
       "1    Richmond & Hawkesbury                          NaN   \n",
       "2                 Brisbane          CBD & Inner Suburbs   \n",
       "3  Gosford & Central Coast                          NaN   \n",
       "4                   Sydney        Ryde & Macquarie Park   \n",
       "\n",
       "                   Classification  SubClassification  \\\n",
       "0      Retail & Consumer Products  Retail Assistants   \n",
       "1      Retail & Consumer Products  Retail Assistants   \n",
       "2      Retail & Consumer Products  Retail Assistants   \n",
       "3      Retail & Consumer Products  Retail Assistants   \n",
       "4  Call Centre & Customer Service    Sales - Inbound   \n",
       "\n",
       "                                         Requirement FullDescription  \\\n",
       "0  Our Casual Stock Replenishers pride themselves...             NaN   \n",
       "1  Our Casual Stock Replenishers pride themselves...             NaN   \n",
       "2  BRAND NEW FLAGSHIP STORE OPENING - SUNSHINE PLAZA             NaN   \n",
       "3  Bring it on - do you love the great outdoors a...             NaN   \n",
       "4  We are seeking highly articulate, enthusiastic...             NaN   \n",
       "\n",
       "   LowestSalary  HighestSalary JobType  \n",
       "0             0             30     NaN  \n",
       "1             0             30     NaN  \n",
       "2             0             30     NaN  \n",
       "3             0             30     NaN  \n",
       "4             0             30     NaN  "
      ]
     },
     "execution_count": 4,
     "metadata": {},
     "output_type": "execute_result"
    }
   ],
   "source": [
    "# header for example\n",
    "df.to_csv('df_output.csv')\n",
    "df.head()"
   ]
  },
  {
   "cell_type": "code",
   "execution_count": 5,
   "metadata": {},
   "outputs": [],
   "source": [
    "# clean up the id number so that they are all the same\n",
    "df['Id'] = df['Id'].astype(str) \n",
    "df['Id'] = df['Id'].str.slice(0,9) \n",
    "df['Id'] = df['Id'].str.rstrip('&') \n",
    "df['Id'] = df['Id'].astype(int)\n",
    "# Removed duplicates \n",
    "df = df.drop_duplicates()"
   ]
  },
  {
   "cell_type": "code",
   "execution_count": 6,
   "metadata": {},
   "outputs": [],
   "source": [
    "# create a new working copy, just in case something breaks!\n",
    "new_df = df"
   ]
  },
  {
   "cell_type": "code",
   "execution_count": 7,
   "metadata": {},
   "outputs": [
    {
     "data": {
      "text/plain": [
       "Id                        0\n",
       "Title                     0\n",
       "Company               11997\n",
       "Date                      0\n",
       "Location             121248\n",
       "Area                 195787\n",
       "Classification       121248\n",
       "SubClassification    121248\n",
       "Requirement               7\n",
       "FullDescription       16135\n",
       "LowestSalary              0\n",
       "HighestSalary             0\n",
       "JobType               16058\n",
       "dtype: int64"
      ]
     },
     "execution_count": 7,
     "metadata": {},
     "output_type": "execute_result"
    }
   ],
   "source": [
    "# check which columns have information missing\n",
    "new_df.isnull().sum()"
   ]
  },
  {
   "cell_type": "code",
   "execution_count": 8,
   "metadata": {},
   "outputs": [
    {
     "data": {
      "text/plain": [
       "Id                            int32\n",
       "Title                        object\n",
       "Company                      object\n",
       "Date                 datetime64[ns]\n",
       "Location                     object\n",
       "Area                         object\n",
       "Classification               object\n",
       "SubClassification            object\n",
       "Requirement                  object\n",
       "FullDescription              object\n",
       "LowestSalary                  int64\n",
       "HighestSalary                 int64\n",
       "JobType                      object\n",
       "dtype: object"
      ]
     },
     "execution_count": 8,
     "metadata": {},
     "output_type": "execute_result"
    }
   ],
   "source": [
    "# change all the relevant columns to title case for string searching\n",
    "new_df['Title'] = new_df['Title'].str.title()\n",
    "#new_df['Company'] = new_df['Company'].str.title()\n",
    "#new_df['Area'] = new_df['Area'].str.title()\n",
    "new_df['Classification'] = new_df['Classification'].str.title()\n",
    "new_df['SubClassification'] = new_df['SubClassification'].str.title()\n",
    "new_df['Requirement'] = new_df['Requirement'].str.title()\n",
    "new_df['FullDescription'] = new_df['FullDescription'].str.title()\n",
    "new_df['JobType'] = new_df['JobType'].str.title()\n",
    "\n",
    "df.dtypes"
   ]
  },
  {
   "cell_type": "code",
   "execution_count": 9,
   "metadata": {},
   "outputs": [
    {
     "data": {
      "text/html": [
       "<div>\n",
       "<style scoped>\n",
       "    .dataframe tbody tr th:only-of-type {\n",
       "        vertical-align: middle;\n",
       "    }\n",
       "\n",
       "    .dataframe tbody tr th {\n",
       "        vertical-align: top;\n",
       "    }\n",
       "\n",
       "    .dataframe thead th {\n",
       "        text-align: right;\n",
       "    }\n",
       "</style>\n",
       "<table border=\"1\" class=\"dataframe\">\n",
       "  <thead>\n",
       "    <tr style=\"text-align: right;\">\n",
       "      <th></th>\n",
       "      <th>Id</th>\n",
       "      <th>Title</th>\n",
       "      <th>Company</th>\n",
       "      <th>Date</th>\n",
       "      <th>Location</th>\n",
       "      <th>Area</th>\n",
       "      <th>Classification</th>\n",
       "      <th>SubClassification</th>\n",
       "      <th>Requirement</th>\n",
       "      <th>FullDescription</th>\n",
       "      <th>LowestSalary</th>\n",
       "      <th>HighestSalary</th>\n",
       "      <th>JobType</th>\n",
       "    </tr>\n",
       "  </thead>\n",
       "  <tbody>\n",
       "    <tr>\n",
       "      <th>0</th>\n",
       "      <td>37404348</td>\n",
       "      <td>Casual Stock Replenisher</td>\n",
       "      <td>Aldi Stores</td>\n",
       "      <td>2018-10-07</td>\n",
       "      <td>Sydney</td>\n",
       "      <td>North West &amp; Hills District</td>\n",
       "      <td>Retail &amp; Consumer Products</td>\n",
       "      <td>Retail Assistants</td>\n",
       "      <td>Our Casual Stock Replenishers Pride Themselves...</td>\n",
       "      <td>NaN</td>\n",
       "      <td>0</td>\n",
       "      <td>30</td>\n",
       "      <td>NaN</td>\n",
       "    </tr>\n",
       "    <tr>\n",
       "      <th>1</th>\n",
       "      <td>37404337</td>\n",
       "      <td>Casual Stock Replenisher</td>\n",
       "      <td>Aldi Stores</td>\n",
       "      <td>2018-10-07</td>\n",
       "      <td>Richmond &amp; Hawkesbury</td>\n",
       "      <td>NaN</td>\n",
       "      <td>Retail &amp; Consumer Products</td>\n",
       "      <td>Retail Assistants</td>\n",
       "      <td>Our Casual Stock Replenishers Pride Themselves...</td>\n",
       "      <td>NaN</td>\n",
       "      <td>0</td>\n",
       "      <td>30</td>\n",
       "      <td>NaN</td>\n",
       "    </tr>\n",
       "    <tr>\n",
       "      <th>2</th>\n",
       "      <td>37404356</td>\n",
       "      <td>Retail Sales Superstars And Stylists Wanted - ...</td>\n",
       "      <td>LB Creative Pty Ltd</td>\n",
       "      <td>2018-10-07</td>\n",
       "      <td>Brisbane</td>\n",
       "      <td>CBD &amp; Inner Suburbs</td>\n",
       "      <td>Retail &amp; Consumer Products</td>\n",
       "      <td>Retail Assistants</td>\n",
       "      <td>Brand New Flagship Store Opening - Sunshine Plaza</td>\n",
       "      <td>NaN</td>\n",
       "      <td>0</td>\n",
       "      <td>30</td>\n",
       "      <td>NaN</td>\n",
       "    </tr>\n",
       "    <tr>\n",
       "      <th>3</th>\n",
       "      <td>37404330</td>\n",
       "      <td>Team Member - Belrose</td>\n",
       "      <td>Anaconda Group Pty Ltd</td>\n",
       "      <td>2018-10-07</td>\n",
       "      <td>Gosford &amp; Central Coast</td>\n",
       "      <td>NaN</td>\n",
       "      <td>Retail &amp; Consumer Products</td>\n",
       "      <td>Retail Assistants</td>\n",
       "      <td>Bring It On - Do You Love The Great Outdoors A...</td>\n",
       "      <td>NaN</td>\n",
       "      <td>0</td>\n",
       "      <td>30</td>\n",
       "      <td>NaN</td>\n",
       "    </tr>\n",
       "    <tr>\n",
       "      <th>4</th>\n",
       "      <td>37404308</td>\n",
       "      <td>Business Banking Contact Centre Specialist, Ni...</td>\n",
       "      <td>Commonwealth Bank - Business &amp; Private Banking</td>\n",
       "      <td>2018-10-07</td>\n",
       "      <td>Sydney</td>\n",
       "      <td>Ryde &amp; Macquarie Park</td>\n",
       "      <td>Call Centre &amp; Customer Service</td>\n",
       "      <td>Sales - Inbound</td>\n",
       "      <td>We Are Seeking Highly Articulate, Enthusiastic...</td>\n",
       "      <td>NaN</td>\n",
       "      <td>0</td>\n",
       "      <td>30</td>\n",
       "      <td>NaN</td>\n",
       "    </tr>\n",
       "  </tbody>\n",
       "</table>\n",
       "</div>"
      ],
      "text/plain": [
       "         Id                                              Title  \\\n",
       "0  37404348                           Casual Stock Replenisher   \n",
       "1  37404337                           Casual Stock Replenisher   \n",
       "2  37404356  Retail Sales Superstars And Stylists Wanted - ...   \n",
       "3  37404330                              Team Member - Belrose   \n",
       "4  37404308  Business Banking Contact Centre Specialist, Ni...   \n",
       "\n",
       "                                          Company       Date  \\\n",
       "0                                     Aldi Stores 2018-10-07   \n",
       "1                                     Aldi Stores 2018-10-07   \n",
       "2                             LB Creative Pty Ltd 2018-10-07   \n",
       "3                          Anaconda Group Pty Ltd 2018-10-07   \n",
       "4  Commonwealth Bank - Business & Private Banking 2018-10-07   \n",
       "\n",
       "                  Location                         Area  \\\n",
       "0                   Sydney  North West & Hills District   \n",
       "1    Richmond & Hawkesbury                          NaN   \n",
       "2                 Brisbane          CBD & Inner Suburbs   \n",
       "3  Gosford & Central Coast                          NaN   \n",
       "4                   Sydney        Ryde & Macquarie Park   \n",
       "\n",
       "                   Classification  SubClassification  \\\n",
       "0      Retail & Consumer Products  Retail Assistants   \n",
       "1      Retail & Consumer Products  Retail Assistants   \n",
       "2      Retail & Consumer Products  Retail Assistants   \n",
       "3      Retail & Consumer Products  Retail Assistants   \n",
       "4  Call Centre & Customer Service    Sales - Inbound   \n",
       "\n",
       "                                         Requirement FullDescription  \\\n",
       "0  Our Casual Stock Replenishers Pride Themselves...             NaN   \n",
       "1  Our Casual Stock Replenishers Pride Themselves...             NaN   \n",
       "2  Brand New Flagship Store Opening - Sunshine Plaza             NaN   \n",
       "3  Bring It On - Do You Love The Great Outdoors A...             NaN   \n",
       "4  We Are Seeking Highly Articulate, Enthusiastic...             NaN   \n",
       "\n",
       "   LowestSalary  HighestSalary JobType  \n",
       "0             0             30     NaN  \n",
       "1             0             30     NaN  \n",
       "2             0             30     NaN  \n",
       "3             0             30     NaN  \n",
       "4             0             30     NaN  "
      ]
     },
     "execution_count": 9,
     "metadata": {},
     "output_type": "execute_result"
    }
   ],
   "source": [
    "new_df.head()"
   ]
  },
  {
   "cell_type": "code",
   "execution_count": 10,
   "metadata": {},
   "outputs": [
    {
     "data": {
      "text/plain": [
       "Id                        0\n",
       "Title                     0\n",
       "Company                   0\n",
       "Date                      0\n",
       "Location             121248\n",
       "Area                 195787\n",
       "Classification       121248\n",
       "SubClassification    121248\n",
       "Requirement               0\n",
       "FullDescription           0\n",
       "LowestSalary              0\n",
       "HighestSalary             0\n",
       "JobType               16058\n",
       "dtype: int64"
      ]
     },
     "execution_count": 10,
     "metadata": {},
     "output_type": "execute_result"
    }
   ],
   "source": [
    "# ensure that there are no empty items in the Requirement and FullDescription columns\n",
    "new_df.loc[new_df[\"Requirement\"] == '',\"Requirement\"] = new_df[\"FullDescription\"]\n",
    "new_df.loc[new_df[\"Requirement\"].isnull(),'Requirement'] = new_df[\"FullDescription\"]\n",
    "new_df.loc[new_df[\"Requirement\"] == '',\"Requirement\"] = new_df[\"Title\"]\n",
    "new_df.loc[new_df[\"Requirement\"].isnull(),'Requirement'] = new_df[\"Title\"]\n",
    "new_df.loc[new_df[\"FullDescription\"] == '',\"FullDescription\"] = new_df[\"Requirement\"]\n",
    "new_df.loc[new_df[\"FullDescription\"].isnull(),'FullDescription'] = new_df[\"Requirement\"]\n",
    "new_df.loc[new_df[\"FullDescription\"] == '',\"FullDescription\"] = new_df[\"Title\"]\n",
    "new_df.loc[new_df[\"FullDescription\"].isnull(),'FullDescription'] = new_df[\"Title\"]\n",
    "new_df[\"Company\"].fillna(\"Unknown\", inplace = True)\n",
    "new_df.isnull().sum()"
   ]
  },
  {
   "cell_type": "code",
   "execution_count": 11,
   "metadata": {},
   "outputs": [],
   "source": [
    "# clean the FullDescription culomn of all the HTML debris\n",
    "import re as re\n",
    "cleaner = re.compile('<.*?>|&([a-z0-9]+|#[0-9]{1,6}|#x[0-9a-f]{1,6});')\n",
    "def garbage(string):\n",
    "    output = re.sub(cleaner, '', string)\n",
    "    return output\n",
    "new_df['FullDescription'] = new_df['FullDescription'].apply(lambda string : garbage(string))\n",
    "\n",
    "#Counter(\" \".join(new_df[\"FullDescription\"]).split()).most_common(10000)"
   ]
  },
  {
   "cell_type": "code",
   "execution_count": 12,
   "metadata": {},
   "outputs": [],
   "source": [
    "#Counter(\" \".join(new_df[\"Requirement\"]).split()).most_common(10000)"
   ]
  },
  {
   "cell_type": "code",
   "execution_count": 13,
   "metadata": {},
   "outputs": [
    {
     "name": "stdout",
     "output_type": "stream",
     "text": [
      "Project Manager                                                1317\n",
      "Business Analyst                                                838\n",
      "Business Development Manager                                    837\n",
      "Administration Assistant                                        749\n",
      "Executive Assistant                                             666\n",
      "                                                               ... \n",
      "Banking | Customer Consultant | Graduate | Entry-Level            1\n",
      "Trainee Groundspersons/Arborists                                  1\n",
      "Part Time Dental Nurse/Dental Assistant Required In Pyrmont       1\n",
      "Expression Of Interest | Customer Support Consultant              1\n",
      "Technical Qa / Coaching Consultant                                1\n",
      "Name: Title, Length: 165081, dtype: int64\n"
     ]
    }
   ],
   "source": [
    "# see the count of occurring items i the Title column\n",
    "for_plot = new_df['Title'].value_counts()\n",
    "print(for_plot)"
   ]
  },
  {
   "cell_type": "code",
   "execution_count": 14,
   "metadata": {},
   "outputs": [
    {
     "name": "stdout",
     "output_type": "stream",
     "text": [
      "['Project Manager', 'Business Analyst', 'Business Development Manager', 'Administration Assistant', 'Executive Assistant', 'Receptionist', 'Registered Nurse', 'Customer Service Officer', 'Administration Officer', 'Property Manager', 'Senior Project Manager', 'Account Manager', 'Payroll Officer', 'Recruitment Consultant', 'Customer Service Representative', 'Electrician', 'Senior Business Analyst', 'Medical Receptionist', 'Contract Administrator', 'Accounts Payable Officer', 'Site Manager', 'Sales Representative', 'Assistant Accountant', 'Physiotherapist', 'Early Childhood Teacher', 'Project Engineer', 'Finance Manager', 'Sales Consultant', 'Chef', 'Financial Accountant', 'Storeperson', 'Operations Manager', 'Store Manager', 'Boilermaker', 'Personal Assistant', 'Estimator', 'Accountant', 'Marketing Manager', 'Project Coordinator', 'Dental Assistant', 'Financial Controller', 'General Manager', 'Head Chef', 'Forklift Driver', 'Labourer', 'Contracts Administrator', 'Marketing Coordinator', 'Office Administrator', 'Senior Accountant', 'Occupational Therapist', 'Management Accountant', 'Solution Architect', 'Office Manager', 'Carpenter', 'Project Officer', 'Accounts Receivable Officer', 'Diesel Mechanic', 'Chief Executive Officer', 'Sous Chef', 'Sales Manager', 'Maintenance Fitter', 'Dentist', 'Disability Support Worker', 'Administrator', 'Assistant Store Manager', 'Change Manager', 'Mechanical Fitter', 'General Practitioner', 'Hr Business Partner', 'Data Analyst', 'Program Manager', 'Site Supervisor', 'Senior Financial Accountant', 'Java Developer', 'Auto Electrician', 'Customer Service Consultant', 'Chief Financial Officer', 'Accounts Officer', 'Devops Engineer', 'Bookkeeper', 'Chef De Partie', 'Administrative Assistant', 'Excavator Operator', 'Assistant Manager', 'Retail Assistant', 'Disability Support Workers', '.Net Developer', 'Cook', 'Service Technician', 'Project Administrator', 'Graphic Designer', 'Classroom Teacher', 'Restaurant Manager', 'Network Engineer', 'Systems Engineer', 'Data Scientist', 'Team Leader', 'Product Manager', 'Legal Secretary', 'Truck Driver', 'Sonographer', 'Account Executive', 'Sales Executive', 'Finance Officer', 'Case Manager', 'Senior Hairdresser', 'Commercial Analyst', 'Cabinet Maker', 'Front End Developer', 'Machine Operator', 'Technical Business Analyst', 'Software Engineer', 'Support Worker', 'Customer Service', 'Production Manager', 'Business Manager', 'Corporate Receptionist', 'Senior Estimator', 'Foreman', 'Warehouse Assistant', 'Plumber', 'Senior Property Manager', 'Commercial Manager', 'Pharmacy Assistant', 'Motor Mechanic', 'Senior Java Developer', 'Senior Network Engineer', 'Warehouse Storeperson', 'Speech Pathologist', 'Finance Business Partner', 'Purchasing Officer', 'Cleaner', 'Intermediate Accountant', 'Hr Advisor', 'Business Support Officer', 'Electrical Engineer', 'Senior .Net Developer', 'Service Desk Analyst', 'Pharmacist', 'Software Developer', 'Credit Officer', 'Diesel Fitter', 'Delivery Driver', 'Beauty Therapist', 'Senior Project Engineer', 'Construction Manager', 'Legal Counsel', 'Team Assistant', 'Store Person', 'Civil Engineer', 'Development Manager', 'Graduate Recruitment Consultant', 'Mechanical Engineer', 'Duty Manager', 'Scrum Master', 'Forklift Operator', 'Field Service Technician', 'Trade Assistant', 'Procurement Officer', 'Key Account Manager', 'Practice Manager', 'Process Worker', 'Commis Chef', 'Service Advisor', 'Marketing Assistant', 'Financial Analyst', 'Client Services Officer', 'Administration', 'Psychologist', 'Food And Beverage Attendant', 'Driver', 'Document Controller', 'Enrolled Nurse', 'Maintenance Manager', 'Technical Writer', 'Full Stack Developer', 'Claims Consultant', 'Personal Trainer', 'Administrative Officer', 'Dump Truck Operator', 'Site Administrator', 'Uber Driver Partner', 'Interior Designer', 'Facilities Manager', 'Collections Officer', 'Hr Manager', 'Kitchen Hand', 'Service Coordinator', 'National Sales Manager', 'Design Manager', 'Systems Administrator', 'Project Manager ', 'Assistant Property Manager', 'Project Support Officer', 'Trades Assistant', 'Senior Electrical Engineer', 'Mechanic', 'Structural Engineer', 'Sales Assistant', 'Factory Hand', 'Sales Administrator', 'Panel Beater', 'Hse Advisor', 'Boilermakers', 'Accounts Payable', 'Brand Manager', 'Branch Manager', 'Credit Controller', 'Test Analyst', 'Senior Software Engineer', 'Claims Advisor', 'Maintenance Officer', 'Teacher', 'Communications Officer', 'Sales Associate', 'Solutions Architect', 'Warehouse Manager', 'Welder', 'Service Manager', 'Guest Service Agent', 'Associate Recruitment Consultant', 'Mc Driver', 'Project Architect', 'Senior Contract Administrator', 'Administration Support Officer', 'Catering Assistant', 'Compliance Manager', 'Maintenance Electrician', 'Data Engineer', 'Chef/Cook', 'Organisational Change Manager', 'Business Analyst ', 'Accounts Assistant', 'Graduate Accountant', 'Senior Payroll Officer', 'Executive Officer', 'Senior Systems Engineer', 'Enterprise Architect', 'Hr Driver', 'Site Engineer', 'Service Delivery Manager', 'General Labourer', 'Research Fellow', 'Production Operator', 'Technical Lead', 'Supervisor', 'New Home Sales Consultant', 'Senior Mechanical Engineer', 'Sales Coordinator', 'Plant Operator', 'Practice Nurse', 'Customer Service Manager', 'Business Development Executive', 'Parts Interpreter', 'Storeman', 'Graduate Teacher Program', 'Commercial Property Manager', 'Personal Care Worker', 'Change Analyst', 'Front Office Receptionist', 'Admin Assistant', 'Senior Interior Designer', 'Senior Test Analyst', 'Administration Manager', 'Warehouse Supervisor', 'Senior Developer', 'Automotive Technician', 'Digital Marketing Coordinator', 'Area Manager', 'Sales And Service Banking Consultant', 'Territory Manager', 'Hr Administrator', 'Salesforce Developer', 'Environmental Health Officer', 'Sharepoint Developer', 'Registered Midwife', 'Administration Coordinator', 'Payroll Manager', 'Senior Structural Engineer', 'Human Resources Manager', 'Travel Consultant', 'Hr Coordinator', 'Contract Manager', 'Compliance Officer', 'Senior Devops Engineer', 'Senior Civil Engineer', 'Maintenance Supervisor', 'Office Coordinator', 'Food & Beverage Attendant', 'Barista', 'Centre Manager', 'Property Officer', 'Dog Groomer', 'Digital Marketing Manager', 'Hc Driver', 'Legal Assistant', 'Pick Packer', 'Recruitment Administrator', 'Ux Designer', 'Customer Service Specialist', 'Personal Carer', 'Lead Educator', 'Digital Marketing Specialist', 'Heavy Diesel Fitter', 'Dental Receptionist', 'Procurement Specialist', 'Web Developer', 'Medical Secretary', 'Paraplanner', 'Receptionist/Administration Assistant', 'Hr Officer', 'Accounts Clerk', 'Client Services Manager', 'National Account Manager', 'Marketing Executive', 'Technical Officer', 'Communications Manager', 'Leading Hand', 'Operations Coordinator', 'Senior Project Officer', 'Delivery Manager', 'Senior Contracts Administrator', 'Test Manager', 'Early Childhood Educator', 'Heavy Vehicle Mechanic', 'Accounts Administrator', 'Procurement Manager', 'Fitter', 'Team Administrator', 'Client Service Officer', 'Engineering Manager', 'Human Resources Business Partner', 'Mining Engineer', 'Home Care Worker', 'Research Assistant', 'Employment Consultant']\n"
     ]
    }
   ],
   "source": [
    "# Make a list of job that can be used in a function\n",
    "n = 337 # which is 50 occurrences or more\n",
    "jobs = new_df['Title'].value_counts()[:n].index.tolist()\n",
    "if 'Sales' in jobs: jobs.remove('Sales')\n",
    "if 'Manager' in jobs: jobs.remove('Manager')\n",
    "print(jobs)"
   ]
  },
  {
   "cell_type": "code",
   "execution_count": 15,
   "metadata": {},
   "outputs": [],
   "source": [
    "# create a function to earch through columns and find occurrences of the above phrases\n",
    "conditions = list(map(new_df['Title'].str.contains, jobs))\n",
    "# create a new column and input the jobs found\n",
    "new_df['TitleCategory'] = np.select(conditions, jobs, '')"
   ]
  },
  {
   "cell_type": "code",
   "execution_count": null,
   "metadata": {},
   "outputs": [],
   "source": []
  },
  {
   "cell_type": "code",
   "execution_count": 16,
   "metadata": {},
   "outputs": [
    {
     "name": "stdout",
     "output_type": "stream",
     "text": [
      "Project Manager                                                1317\n",
      "Business Analyst                                                838\n",
      "Business Development Manager                                    837\n",
      "Administration Assistant                                        749\n",
      "Executive Assistant                                             666\n",
      "                                                               ... \n",
      "Banking | Customer Consultant | Graduate | Entry-Level            1\n",
      "Trainee Groundspersons/Arborists                                  1\n",
      "Part Time Dental Nurse/Dental Assistant Required In Pyrmont       1\n",
      "Expression Of Interest | Customer Support Consultant              1\n",
      "Technical Qa / Coaching Consultant                                1\n",
      "Name: Title, Length: 165081, dtype: int64\n"
     ]
    }
   ],
   "source": [
    "# Original amount of Titles\n",
    "for_plot = new_df['Title'].value_counts()\n",
    "print(for_plot)"
   ]
  },
  {
   "cell_type": "code",
   "execution_count": 17,
   "metadata": {},
   "outputs": [
    {
     "name": "stdout",
     "output_type": "stream",
     "text": [
      "                                        143733\n",
      "Project Manager                           6106\n",
      "Administrator                             4491\n",
      "Receptionist                              4115\n",
      "Business Analyst                          3749\n",
      "                                         ...  \n",
      "Sharepoint Developer                        84\n",
      "Human Resources Business Partner            79\n",
      "Environmental Health Officer                73\n",
      "Sales And Service Banking Consultant        66\n",
      "Dog Groomer                                 65\n",
      "Name: TitleCategory, Length: 257, dtype: int64\n"
     ]
    }
   ],
   "source": [
    "# Titles found in the rest of the Title column\n",
    "for_plot = new_df['TitleCategory'].value_counts()\n",
    "print(for_plot)"
   ]
  },
  {
   "cell_type": "code",
   "execution_count": 18,
   "metadata": {},
   "outputs": [
    {
     "data": {
      "text/plain": [
       "Id                        0\n",
       "Title                     0\n",
       "Company                   0\n",
       "Date                      0\n",
       "Location             121248\n",
       "Area                 195787\n",
       "Classification       121248\n",
       "SubClassification    121248\n",
       "Requirement               0\n",
       "FullDescription           0\n",
       "LowestSalary              0\n",
       "HighestSalary             0\n",
       "JobType               16058\n",
       "TitleCategory             0\n",
       "dtype: int64"
      ]
     },
     "execution_count": 18,
     "metadata": {},
     "output_type": "execute_result"
    }
   ],
   "source": [
    "# making sure there is something in every line of the Requirement column\n",
    "new_df[\"Requirement\"].fillna(\"Unknown\", inplace = True)\n",
    "new_df.isnull().sum()"
   ]
  },
  {
   "cell_type": "code",
   "execution_count": 19,
   "metadata": {},
   "outputs": [],
   "source": [
    "# Filter the column in the same way\n",
    "conditions = list(map(new_df['Requirement'].str.contains, jobs))\n",
    "new_df['TitleCategory2'] = np.select(conditions, jobs, '')"
   ]
  },
  {
   "cell_type": "code",
   "execution_count": 20,
   "metadata": {},
   "outputs": [
    {
     "name": "stdout",
     "output_type": "stream",
     "text": [
      "                                        208249\n",
      "Customer Service                          6599\n",
      "Project Manager                           3695\n",
      "Cook                                      3466\n",
      "Administrator                             3061\n",
      "                                         ...  \n",
      "Human Resources Manager                     40\n",
      "Environmental Health Officer                25\n",
      "Client Services Manager                     24\n",
      "Human Resources Business Partner            18\n",
      "Sales And Service Banking Consultant         1\n",
      "Name: TitleCategory2, Length: 257, dtype: int64\n"
     ]
    }
   ],
   "source": [
    "for_plot = new_df['TitleCategory2'].value_counts()\n",
    "print(for_plot)"
   ]
  },
  {
   "cell_type": "code",
   "execution_count": 21,
   "metadata": {},
   "outputs": [],
   "source": [
    "# Filter the FullDescription column in the same way\n",
    "conditions = list(map(new_df['FullDescription'].str.contains, jobs))\n",
    "new_df['TitleCategory3'] = np.select(conditions, jobs, '')"
   ]
  },
  {
   "cell_type": "code",
   "execution_count": 22,
   "metadata": {},
   "outputs": [
    {
     "name": "stdout",
     "output_type": "stream",
     "text": [
      "                                        86852\n",
      "Customer Service                        33037\n",
      "Driver                                  17512\n",
      "Project Manager                         11337\n",
      "Administration                           9674\n",
      "                                        ...  \n",
      "Accounts Clerk                             10\n",
      "Dog Groomer                                 6\n",
      "Home Care Worker                            4\n",
      "Food & Beverage Attendant                   3\n",
      "Sales And Service Banking Consultant        1\n",
      "Name: TitleCategory3, Length: 257, dtype: int64\n"
     ]
    }
   ],
   "source": [
    "for_plot = new_df['TitleCategory3'].value_counts()\n",
    "print(for_plot)"
   ]
  },
  {
   "cell_type": "code",
   "execution_count": 23,
   "metadata": {},
   "outputs": [
    {
     "name": "stdout",
     "output_type": "stream",
     "text": [
      "Customer Service                                                                  21192\n",
      "Driver                                                                            13149\n",
      "Administration                                                                     8268\n",
      "Project Manager                                                                    8141\n",
      "Administrator                                                                      5551\n",
      "                                                                                  ...  \n",
      "Designer - Fttn                                                                       1\n",
      "Full Time Waiter/Waitress In Elsternwick                                              1\n",
      "Advice Compliance                                                                     1\n",
      "Mdm Architect                                                                         1\n",
      "Construction Lawyers - Mid - Senior Roles In Leading Firms - Front Or Back End        1\n",
      "Name: TitleCategory, Length: 41052, dtype: int64\n"
     ]
    }
   ],
   "source": [
    "# add all three columns together to ensure there are no missing lines.\n",
    "# if there is no better/shorter version of the title, then add back the title column\n",
    "new_df.loc[new_df[\"TitleCategory\"] == '',\"TitleCategory\"] = new_df[\"TitleCategory2\"]\n",
    "new_df.loc[new_df[\"TitleCategory\"].isnull(),'TitleCategory'] = new_df[\"TitleCategory2\"]\n",
    "new_df.loc[new_df[\"TitleCategory\"] == '',\"TitleCategory\"] = new_df[\"TitleCategory3\"]\n",
    "new_df.loc[new_df[\"TitleCategory\"].isnull(),'TitleCategory'] = new_df[\"TitleCategory3\"]\n",
    "new_df.loc[new_df[\"TitleCategory\"] == '',\"TitleCategory\"] = new_df[\"Title\"]\n",
    "new_df.loc[new_df[\"TitleCategory\"].isnull(),'TitleCategory'] = new_df[\"Title\"]\n",
    "for_plot = new_df['TitleCategory'].value_counts()\n",
    "print(for_plot)"
   ]
  },
  {
   "cell_type": "code",
   "execution_count": 24,
   "metadata": {},
   "outputs": [
    {
     "data": {
      "text/plain": [
       "Id                        0\n",
       "Title                     0\n",
       "Company                   0\n",
       "Date                      0\n",
       "Location             121248\n",
       "Area                 195787\n",
       "Classification       121248\n",
       "SubClassification    121248\n",
       "Requirement               0\n",
       "FullDescription           0\n",
       "LowestSalary              0\n",
       "HighestSalary             0\n",
       "JobType               16058\n",
       "TitleCategory             0\n",
       "TitleCategory2            0\n",
       "TitleCategory3            0\n",
       "dtype: int64"
      ]
     },
     "execution_count": 24,
     "metadata": {},
     "output_type": "execute_result"
    }
   ],
   "source": [
    "new_df.isnull().sum()"
   ]
  },
  {
   "cell_type": "code",
   "execution_count": 25,
   "metadata": {},
   "outputs": [
    {
     "name": "stdout",
     "output_type": "stream",
     "text": [
      "['Sydney', 'Melbourne', 'Brisbane', 'Perth', 'Adelaide', 'ACT', 'Newcastle, Maitland & Hunter', 'Gold Coast', 'South West Coast VIC', 'Mackay & Coalfields', 'Port Hedland, Karratha & Pilbara', 'Wollongong, Illawarra & South Coast', 'Sunshine Coast', 'Cairns & Far North', 'Northern QLD', 'Gosford & Central Coast', 'Toowoomba & Darling Downs', 'Darwin', 'Hobart', 'Blue Mountains & Central West', 'Kalgoorlie, Goldfields & Esperance', 'Lismore & Far North Coast', 'Bendigo, Goldfields & Macedon Ranges', 'Wagga Wagga & Riverina', 'Mornington Peninsula & Bass Coast', 'Rockhampton & Capricorn Coast', 'Gladstone & Central QLD', 'Dubbo & Central NSW', 'Bunbury & South West', 'Tamworth & North West NSW', 'Ballarat & Central Highlands', 'Shepparton & Goulburn Valley', 'West Gippsland & Latrobe Valley', 'Western QLD', 'Yarra Valley & High Country', 'Port Macquarie & Mid North Coast', 'Southern Highlands & Tablelands', 'Coffs Harbour & North Coast', 'Albury Area', 'Bundaberg & Wide Bay Burnett', 'Launceston & North East', 'Bairnsdale & Gippsland', 'Geraldton, Gascoyne & Midwest', 'Mildura & Murray', 'Alice Springs & Central Australia', 'Hervey Bay & Fraser Coast', 'Broome & Kimberley', 'Devonport & North West', 'Mandurah & Peel', 'Horsham & Grampians', 'Whyalla & Eyre Peninsula', 'Far West & North Central NSW', 'Adelaide Hills & Barossa', 'Katherine & Northern Australia', 'Mt Gambier & Limestone Coast', 'Northam & Wheatbelt', 'Albany & Great Southern', 'Riverland & Murray Mallee', 'Richmond & Hawkesbury', 'Coober Pedy & Outback SA', 'Yorke Peninsula & Clare Valley', 'Tumut, Snowy & Monaro', 'Somerset & Lockyer', 'Fleurieu Peninsula & Kangaroo Island', 'Central & South East TAS']\n"
     ]
    }
   ],
   "source": [
    "# The same filtering can be done for the Location column\n",
    "n = 65\n",
    "locations = new_df['Location'].value_counts()[:n].index.tolist()\n",
    "print(locations)"
   ]
  },
  {
   "cell_type": "code",
   "execution_count": 26,
   "metadata": {},
   "outputs": [
    {
     "name": "stdout",
     "output_type": "stream",
     "text": [
      "Sydney                                  60729\n",
      "Melbourne                               46656\n",
      "Brisbane                                21455\n",
      "Perth                                   13192\n",
      "Adelaide                                 6650\n",
      "                                        ...  \n",
      "Yorke Peninsula & Clare Valley             96\n",
      "Tumut, Snowy & Monaro                      86\n",
      "Somerset & Lockyer                         65\n",
      "Fleurieu Peninsula & Kangaroo Island       64\n",
      "Central & South East TAS                   57\n",
      "Name: Location, Length: 65, dtype: int64\n"
     ]
    }
   ],
   "source": [
    "for_plot = new_df['Location'].value_counts()\n",
    "print(for_plot)"
   ]
  },
  {
   "cell_type": "code",
   "execution_count": 27,
   "metadata": {},
   "outputs": [],
   "source": [
    "conditions = list(map(new_df['Title'].str.contains, locations))\n",
    "new_df['Location1'] = np.select(conditions, locations, '')"
   ]
  },
  {
   "cell_type": "code",
   "execution_count": 28,
   "metadata": {},
   "outputs": [
    {
     "name": "stdout",
     "output_type": "stream",
     "text": [
      "                                 307100\n",
      "Sydney                             4001\n",
      "Melbourne                          2555\n",
      "Brisbane                           1911\n",
      "Perth                              1010\n",
      "Adelaide                            629\n",
      "Gold Coast                          437\n",
      "Darwin                              301\n",
      "Sunshine Coast                      238\n",
      "Hobart                              165\n",
      "Whyalla & Eyre Peninsula              3\n",
      "Cairns & Far North                    3\n",
      "Gosford & Central Coast               2\n",
      "Mackay & Coalfields                   2\n",
      "Coffs Harbour & North Coast           2\n",
      "Albany & Great Southern               2\n",
      "Lismore & Far North Coast             2\n",
      "Bairnsdale & Gippsland                1\n",
      "Shepparton & Goulburn Valley          1\n",
      "Mildura & Murray                      1\n",
      "Blue Mountains & Central West         1\n",
      "Mt Gambier & Limestone Coast          1\n",
      "Bunbury & South West                  1\n",
      "Name: Location1, dtype: int64\n"
     ]
    }
   ],
   "source": [
    "for_plot = new_df['Location1'].value_counts()\n",
    "print(for_plot)"
   ]
  },
  {
   "cell_type": "code",
   "execution_count": null,
   "metadata": {},
   "outputs": [],
   "source": []
  },
  {
   "cell_type": "code",
   "execution_count": 29,
   "metadata": {},
   "outputs": [],
   "source": [
    "new_df.loc[new_df[\"FullDescription\"] == '',\"FullDescription\"] = new_df[\"Title\"]\n",
    "new_df.loc[new_df[\"FullDescription\"].isnull(),'FullDescription'] = new_df[\"Title\"]"
   ]
  },
  {
   "cell_type": "code",
   "execution_count": 30,
   "metadata": {},
   "outputs": [],
   "source": [
    "conditions = list(map(new_df['FullDescription'].str.contains, locations))\n",
    "new_df['Location2'] = np.select(conditions, locations, '')"
   ]
  },
  {
   "cell_type": "code",
   "execution_count": 31,
   "metadata": {},
   "outputs": [
    {
     "name": "stdout",
     "output_type": "stream",
     "text": [
      "                                    213688\n",
      "Sydney                               41265\n",
      "Melbourne                            28043\n",
      "Brisbane                             14604\n",
      "Perth                                10520\n",
      "Adelaide                              4346\n",
      "Gold Coast                            2508\n",
      "Darwin                                1542\n",
      "Sunshine Coast                        1035\n",
      "Hobart                                 811\n",
      "Albury Area                              5\n",
      "Port Hedland, Karratha & Pilbara         1\n",
      "Broome & Kimberley                       1\n",
      "Name: Location2, dtype: int64\n"
     ]
    }
   ],
   "source": [
    "for_plot = new_df['Location2'].value_counts()\n",
    "print(for_plot)"
   ]
  },
  {
   "cell_type": "code",
   "execution_count": 32,
   "metadata": {},
   "outputs": [],
   "source": [
    "conditions = list(map(new_df['Requirement'].str.contains, locations))\n",
    "new_df['Location3'] = np.select(conditions, locations, '')"
   ]
  },
  {
   "cell_type": "code",
   "execution_count": 33,
   "metadata": {},
   "outputs": [
    {
     "name": "stdout",
     "output_type": "stream",
     "text": [
      "                                     283159\n",
      "Sydney                                13117\n",
      "Melbourne                              9179\n",
      "Brisbane                               5126\n",
      "Perth                                  3640\n",
      "Adelaide                               1531\n",
      "Gold Coast                             1099\n",
      "Darwin                                  727\n",
      "Sunshine Coast                          491\n",
      "Hobart                                  280\n",
      "Albury Area                               3\n",
      "Mornington Peninsula & Bass Coast         3\n",
      "Coffs Harbour & North Coast               2\n",
      "Port Hedland, Karratha & Pilbara          2\n",
      "Broome & Kimberley                        2\n",
      "Bunbury & South West                      2\n",
      "Lismore & Far North Coast                 2\n",
      "Newcastle, Maitland & Hunter              1\n",
      "Bairnsdale & Gippsland                    1\n",
      "Shepparton & Goulburn Valley              1\n",
      "West Gippsland & Latrobe Valley           1\n",
      "Name: Location3, dtype: int64\n"
     ]
    }
   ],
   "source": [
    "for_plot = new_df['Location3'].value_counts()\n",
    "print(for_plot)"
   ]
  },
  {
   "cell_type": "code",
   "execution_count": 34,
   "metadata": {},
   "outputs": [
    {
     "data": {
      "text/plain": [
       "0          \n",
       "1          \n",
       "2          \n",
       "3          \n",
       "4          \n",
       "         ..\n",
       "318472     \n",
       "318473     \n",
       "318474     \n",
       "318475     \n",
       "318476     \n",
       "Name: Location3, Length: 318369, dtype: object"
      ]
     },
     "execution_count": 34,
     "metadata": {},
     "output_type": "execute_result"
    }
   ],
   "source": [
    "new_df['Location'].where((pd.notnull(new_df['Location'])), None)\n",
    "new_df['Location1'].where((pd.notnull(new_df['Location1'])), None)\n",
    "new_df['Location2'].where((pd.notnull(new_df['Location2'])), None)\n",
    "new_df['Location3'].where((pd.notnull(new_df['Location3'])), None)"
   ]
  },
  {
   "cell_type": "code",
   "execution_count": 35,
   "metadata": {},
   "outputs": [],
   "source": [
    "new_df.loc[new_df[\"Location\"] == '',\"Location\"] = new_df[\"Location1\"]\n",
    "new_df.loc[new_df[\"Location\"].isnull(),'Location'] = new_df[\"Location1\"]\n",
    "new_df.loc[new_df[\"Location\"] == '',\"Location\"] = new_df[\"Location2\"]\n",
    "new_df.loc[new_df[\"Location\"].isnull(),'Location'] = new_df[\"Location2\"]\n",
    "new_df.loc[new_df[\"Location\"] == '',\"Location\"] = new_df[\"Location3\"]\n",
    "new_df.loc[new_df[\"Location\"].isnull(),'Location'] = new_df[\"Location3\"]\n",
    "new_df.loc[new_df[\"Location\"] == '',\"Location\"] = new_df[\"Location1\"]\n",
    "new_df.loc[new_df[\"Location\"].isnull(),'Location'] = new_df[\"Location1\"]"
   ]
  },
  {
   "cell_type": "code",
   "execution_count": 36,
   "metadata": {},
   "outputs": [
    {
     "data": {
      "text/plain": [
       "Id                        0\n",
       "Title                     0\n",
       "Company                   0\n",
       "Date                      0\n",
       "Location                  0\n",
       "Area                 195787\n",
       "Classification       121248\n",
       "SubClassification    121248\n",
       "Requirement               0\n",
       "FullDescription           0\n",
       "LowestSalary              0\n",
       "HighestSalary             0\n",
       "JobType               16058\n",
       "TitleCategory             0\n",
       "TitleCategory2            0\n",
       "TitleCategory3            0\n",
       "Location1                 0\n",
       "Location2                 0\n",
       "Location3                 0\n",
       "dtype: int64"
      ]
     },
     "execution_count": 36,
     "metadata": {},
     "output_type": "execute_result"
    }
   ],
   "source": [
    "new_df.isnull().sum()"
   ]
  },
  {
   "cell_type": "code",
   "execution_count": 37,
   "metadata": {},
   "outputs": [
    {
     "name": "stdout",
     "output_type": "stream",
     "text": [
      "Sydney                                  78044\n",
      "                                        76938\n",
      "Melbourne                               58700\n",
      "Brisbane                                27543\n",
      "Perth                                   17673\n",
      "                                        ...  \n",
      "Yorke Peninsula & Clare Valley             96\n",
      "Tumut, Snowy & Monaro                      86\n",
      "Somerset & Lockyer                         65\n",
      "Fleurieu Peninsula & Kangaroo Island       64\n",
      "Central & South East TAS                   57\n",
      "Name: Location, Length: 66, dtype: int64\n"
     ]
    }
   ],
   "source": [
    "for_plot = new_df['Location'].value_counts()\n",
    "print(for_plot)"
   ]
  },
  {
   "cell_type": "code",
   "execution_count": null,
   "metadata": {},
   "outputs": [],
   "source": []
  },
  {
   "cell_type": "code",
   "execution_count": 38,
   "metadata": {},
   "outputs": [
    {
     "name": "stdout",
     "output_type": "stream",
     "text": [
      "CBD & Inner Suburbs                    32144\n",
      "CBD, Inner West & Eastern Suburbs      29048\n",
      "Parramatta & Western Suburbs            8759\n",
      "Bayside & South Eastern Suburbs         6702\n",
      "North Shore & Northern Beaches          6647\n",
      "Northern Suburbs                        6434\n",
      "Eastern Suburbs                         6357\n",
      "CBD, Inner & Western Suburbs            5568\n",
      "Western Suburbs                         4283\n",
      "South West & M5 Corridor                3190\n",
      "Southern Suburbs & Sutherland Shire     2237\n",
      "Southern Suburbs & Logan                2137\n",
      "Ryde & Macquarie Park                   1960\n",
      "North West & Hills District             1905\n",
      "Fremantle & Southern Suburbs            1802\n",
      "Northern Suburbs & Joondalup            1199\n",
      "Western Suburbs & Ipswich               1190\n",
      "Bayside & Eastern Suburbs                656\n",
      "Rockingham & Kwinana                     364\n",
      "Name: Area, dtype: int64\n"
     ]
    }
   ],
   "source": [
    "# And the same filtering can be done for the Area column\n",
    "for_plot = new_df['Area'].value_counts()\n",
    "print(for_plot)"
   ]
  },
  {
   "cell_type": "code",
   "execution_count": 39,
   "metadata": {},
   "outputs": [
    {
     "name": "stdout",
     "output_type": "stream",
     "text": [
      "['CBD & Inner Suburbs', 'CBD, Inner West & Eastern Suburbs', 'Parramatta & Western Suburbs', 'Bayside & South Eastern Suburbs', 'North Shore & Northern Beaches', 'Northern Suburbs', 'Eastern Suburbs', 'CBD, Inner & Western Suburbs', 'Western Suburbs', 'South West & M5 Corridor', 'Southern Suburbs & Sutherland Shire', 'Southern Suburbs & Logan', 'Ryde & Macquarie Park', 'North West & Hills District', 'Fremantle & Southern Suburbs', 'Northern Suburbs & Joondalup', 'Western Suburbs & Ipswich', 'Bayside & Eastern Suburbs', 'Rockingham & Kwinana']\n"
     ]
    }
   ],
   "source": [
    "n = 19\n",
    "areas = new_df['Area'].value_counts()[:n].index.tolist()\n",
    "print(areas)"
   ]
  },
  {
   "cell_type": "code",
   "execution_count": 40,
   "metadata": {},
   "outputs": [],
   "source": [
    "conditions = list(map(new_df['Title'].str.contains, areas))\n",
    "new_df['Area1'] = np.select(conditions, areas, '')"
   ]
  },
  {
   "cell_type": "code",
   "execution_count": 41,
   "metadata": {},
   "outputs": [
    {
     "name": "stdout",
     "output_type": "stream",
     "text": [
      "                                   317449\n",
      "Eastern Suburbs                       416\n",
      "Western Suburbs                       259\n",
      "Northern Suburbs                      231\n",
      "North Shore & Northern Beaches          6\n",
      "Bayside & South Eastern Suburbs         2\n",
      "Rockingham & Kwinana                    2\n",
      "Southern Suburbs & Logan                1\n",
      "Fremantle & Southern Suburbs            1\n",
      "Ryde & Macquarie Park                   1\n",
      "South West & M5 Corridor                1\n",
      "Name: Area1, dtype: int64\n"
     ]
    }
   ],
   "source": [
    "for_plot = new_df['Area1'].value_counts()\n",
    "print(for_plot)"
   ]
  },
  {
   "cell_type": "code",
   "execution_count": 42,
   "metadata": {},
   "outputs": [],
   "source": [
    "conditions = list(map(new_df['FullDescription'].str.contains, areas))\n",
    "new_df['Area2'] = np.select(conditions, areas, '')"
   ]
  },
  {
   "cell_type": "code",
   "execution_count": 43,
   "metadata": {},
   "outputs": [
    {
     "name": "stdout",
     "output_type": "stream",
     "text": [
      "                    310561\n",
      "Eastern Suburbs       3481\n",
      "Western Suburbs       2424\n",
      "Northern Suburbs      1903\n",
      "Name: Area2, dtype: int64\n"
     ]
    }
   ],
   "source": [
    "for_plot = new_df['Area2'].value_counts()\n",
    "print(for_plot)"
   ]
  },
  {
   "cell_type": "code",
   "execution_count": 44,
   "metadata": {},
   "outputs": [],
   "source": [
    "conditions = list(map(new_df['Requirement'].str.contains, areas))\n",
    "new_df['Area3'] = np.select(conditions, areas, '')"
   ]
  },
  {
   "cell_type": "code",
   "execution_count": 45,
   "metadata": {},
   "outputs": [
    {
     "name": "stdout",
     "output_type": "stream",
     "text": [
      "                                   315164\n",
      "Eastern Suburbs                      1341\n",
      "Western Suburbs                      1078\n",
      "Northern Suburbs                      773\n",
      "North Shore & Northern Beaches          9\n",
      "South West & M5 Corridor                2\n",
      "Parramatta & Western Suburbs            1\n",
      "Bayside & South Eastern Suburbs         1\n",
      "Name: Area3, dtype: int64\n"
     ]
    }
   ],
   "source": [
    "for_plot = new_df['Area3'].value_counts()\n",
    "print(for_plot)"
   ]
  },
  {
   "cell_type": "code",
   "execution_count": 46,
   "metadata": {},
   "outputs": [
    {
     "data": {
      "text/plain": [
       "0          \n",
       "1          \n",
       "2          \n",
       "3          \n",
       "4          \n",
       "         ..\n",
       "318472     \n",
       "318473     \n",
       "318474     \n",
       "318475     \n",
       "318476     \n",
       "Name: Area3, Length: 318369, dtype: object"
      ]
     },
     "execution_count": 46,
     "metadata": {},
     "output_type": "execute_result"
    }
   ],
   "source": [
    "new_df['Area'].where((pd.notnull(new_df['Area'])), None)\n",
    "new_df['Area1'].where((pd.notnull(new_df['Area1'])), None)\n",
    "new_df['Area2'].where((pd.notnull(new_df['Area2'])), None)\n",
    "new_df['Area3'].where((pd.notnull(new_df['Area3'])), None)"
   ]
  },
  {
   "cell_type": "code",
   "execution_count": 47,
   "metadata": {},
   "outputs": [
    {
     "name": "stdout",
     "output_type": "stream",
     "text": [
      "                                       191469\n",
      "CBD & Inner Suburbs                     32144\n",
      "CBD, Inner West & Eastern Suburbs       29048\n",
      "Parramatta & Western Suburbs             8759\n",
      "Eastern Suburbs                          8227\n",
      "Northern Suburbs                         7574\n",
      "Bayside & South Eastern Suburbs          6702\n",
      "North Shore & Northern Beaches           6653\n",
      "Western Suburbs                          5581\n",
      "CBD, Inner & Western Suburbs             5568\n",
      "South West & M5 Corridor                 3192\n",
      "Southern Suburbs & Sutherland Shire      2237\n",
      "Southern Suburbs & Logan                 2138\n",
      "Ryde & Macquarie Park                    1960\n",
      "North West & Hills District              1905\n",
      "Fremantle & Southern Suburbs             1803\n",
      "Northern Suburbs & Joondalup             1199\n",
      "Western Suburbs & Ipswich                1190\n",
      "Bayside & Eastern Suburbs                 656\n",
      "Rockingham & Kwinana                      364\n",
      "Name: Area, dtype: int64\n"
     ]
    }
   ],
   "source": [
    "new_df.loc[new_df[\"Area\"] == '',\"Area\"] = new_df[\"Area1\"]\n",
    "new_df.loc[new_df[\"Area\"].isnull(),'Area'] = new_df[\"Area1\"]\n",
    "new_df.loc[new_df[\"Area\"] == '',\"Area\"] = new_df[\"Area2\"]\n",
    "new_df.loc[new_df[\"Area\"].isnull(),'Area'] = new_df[\"Area2\"]\n",
    "new_df.loc[new_df[\"Area\"] == '',\"Area\"] = new_df[\"Area3\"]\n",
    "new_df.loc[new_df[\"Area\"].isnull(),'Area'] = new_df[\"Area3\"]\n",
    "for_plot = new_df['Area'].value_counts()\n",
    "print(for_plot)"
   ]
  },
  {
   "cell_type": "code",
   "execution_count": 48,
   "metadata": {},
   "outputs": [
    {
     "data": {
      "text/plain": [
       "Id                        0\n",
       "Title                     0\n",
       "Company                   0\n",
       "Date                      0\n",
       "Location                  0\n",
       "Area                      0\n",
       "Classification       121248\n",
       "SubClassification    121248\n",
       "Requirement               0\n",
       "FullDescription           0\n",
       "LowestSalary              0\n",
       "HighestSalary             0\n",
       "JobType               16058\n",
       "TitleCategory             0\n",
       "TitleCategory2            0\n",
       "TitleCategory3            0\n",
       "Location1                 0\n",
       "Location2                 0\n",
       "Location3                 0\n",
       "Area1                     0\n",
       "Area2                     0\n",
       "Area3                     0\n",
       "dtype: int64"
      ]
     },
     "execution_count": 48,
     "metadata": {},
     "output_type": "execute_result"
    }
   ],
   "source": [
    "new_df.isnull().sum()"
   ]
  },
  {
   "cell_type": "code",
   "execution_count": 49,
   "metadata": {},
   "outputs": [
    {
     "name": "stdout",
     "output_type": "stream",
     "text": [
      "Information & Communication Technology    22787\n",
      "Trades & Services                         17966\n",
      "Healthcare & Medical                      17068\n",
      "Hospitality & Tourism                     15513\n",
      "Manufacturing, Transport & Logistics      12372\n",
      "Administration & Office Support           10017\n",
      "Accounting                                 9365\n",
      "Education & Training                       9272\n",
      "Construction                               8369\n",
      "Sales                                      8112\n",
      "Retail & Consumer Products                 8040\n",
      "Government & Defence                       7435\n",
      "Engineering                                6453\n",
      "Mining, Resources & Energy                 6286\n",
      "Banking & Financial Services               4632\n",
      "Community Services & Development           4484\n",
      "Legal                                      4232\n",
      "Human Resources & Recruitment              4140\n",
      "Call Centre & Customer Service             3971\n",
      "Marketing & Communications                 3968\n",
      "Real Estate & Property                     3611\n",
      "Design & Architecture                      1810\n",
      "Insurance & Superannuation                 1473\n",
      "Consulting & Strategy                      1205\n",
      "Sport & Recreation                          984\n",
      "Science & Technology                        905\n",
      "Farming, Animals & Conservation             882\n",
      "Ceo & General Management                    843\n",
      "Advertising, Arts & Media                   833\n",
      "Self Employment                              93\n",
      "Name: Classification, dtype: int64\n"
     ]
    }
   ],
   "source": [
    "# Classification is populated with the most occuring classification for a particular title\n",
    "for_plot = new_df['Classification'].value_counts()\n",
    "print(for_plot)"
   ]
  },
  {
   "cell_type": "code",
   "execution_count": null,
   "metadata": {},
   "outputs": [],
   "source": []
  },
  {
   "cell_type": "code",
   "execution_count": 50,
   "metadata": {},
   "outputs": [
    {
     "name": "stdout",
     "output_type": "stream",
     "text": [
      "Other                         11341\n",
      "Management                     6230\n",
      "Chefs/Cooks                    4596\n",
      "Administrative Assistants      4571\n",
      "Developers/Programmers         4210\n",
      "                              ...  \n",
      "Modelling & Simulation           14\n",
      "Computer Operators               13\n",
      "Air Force                        12\n",
      "Chiropractic & Osteopathic       11\n",
      "Army                              5\n",
      "Name: SubClassification, Length: 338, dtype: int64\n"
     ]
    }
   ],
   "source": [
    "# the same can be done for the sub-classification column\n",
    "for_plot = new_df['SubClassification'].value_counts()\n",
    "print(for_plot)"
   ]
  },
  {
   "cell_type": "code",
   "execution_count": 51,
   "metadata": {},
   "outputs": [],
   "source": [
    "new_df.loc[new_df['Classification'].isna(), 'Classification'] = new_df.groupby(['TitleCategory'])['Classification'].transform(lambda x: x.mode()[0] if any(x.mode()) else np.nan)"
   ]
  },
  {
   "cell_type": "code",
   "execution_count": 52,
   "metadata": {},
   "outputs": [],
   "source": [
    "new_df.loc[new_df['Classification'].isna(), 'Classification'] = new_df.groupby(['Title'])['Classification'].transform(lambda x: x.mode()[0] if any(x.mode()) else np.nan)"
   ]
  },
  {
   "cell_type": "code",
   "execution_count": 53,
   "metadata": {},
   "outputs": [],
   "source": [
    "new_df.loc[new_df['SubClassification'].isna(), 'SubClassification'] = new_df.groupby(['TitleCategory'])['SubClassification'].transform(lambda x: x.mode()[0] if any(x.mode()) else np.nan)"
   ]
  },
  {
   "cell_type": "code",
   "execution_count": 54,
   "metadata": {},
   "outputs": [],
   "source": [
    "new_df.loc[new_df['SubClassification'].isna(), 'SubClassification'] = new_df.groupby(['Title'])['SubClassification'].transform(lambda x: x.mode()[0] if any(x.mode()) else np.nan)"
   ]
  },
  {
   "cell_type": "code",
   "execution_count": null,
   "metadata": {},
   "outputs": [],
   "source": []
  },
  {
   "cell_type": "code",
   "execution_count": 55,
   "metadata": {},
   "outputs": [
    {
     "name": "stdout",
     "output_type": "stream",
     "text": [
      "Information & Communication Technology    34397\n",
      "Trades & Services                         26762\n",
      "Healthcare & Medical                      23773\n",
      "Administration & Office Support           22765\n",
      "Manufacturing, Transport & Logistics      22246\n",
      "Hospitality & Tourism                     21133\n",
      "Retail & Consumer Products                19549\n",
      "Sales                                     14765\n",
      "Accounting                                14614\n",
      "Education & Training                      11814\n",
      "Construction                              11566\n",
      "Government & Defence                      10445\n",
      "Mining, Resources & Energy                 9013\n",
      "Engineering                                8884\n",
      "Human Resources & Recruitment              6118\n",
      "Community Services & Development           5891\n",
      "Marketing & Communications                 5872\n",
      "Banking & Financial Services               5587\n",
      "Legal                                      5389\n",
      "Call Centre & Customer Service             5327\n",
      "Real Estate & Property                     4976\n",
      "Design & Architecture                      2430\n",
      "Ceo & General Management                   2360\n",
      "Insurance & Superannuation                 1728\n",
      "Consulting & Strategy                      1296\n",
      "Sport & Recreation                         1196\n",
      "Farming, Animals & Conservation             957\n",
      "Science & Technology                        943\n",
      "Advertising, Arts & Media                   911\n",
      "Self Employment                             103\n",
      "Name: Classification, dtype: int64\n"
     ]
    }
   ],
   "source": [
    "for_plot = new_df['Classification'].value_counts()\n",
    "print(for_plot)"
   ]
  },
  {
   "cell_type": "code",
   "execution_count": null,
   "metadata": {},
   "outputs": [],
   "source": []
  },
  {
   "cell_type": "code",
   "execution_count": 56,
   "metadata": {},
   "outputs": [
    {
     "name": "stdout",
     "output_type": "stream",
     "text": [
      "Other                         14812\n",
      "Administrative Assistants     13558\n",
      "Retail Assistants             13205\n",
      "Management                    11837\n",
      "Chefs/Cooks                    7437\n",
      "                              ...  \n",
      "Computer Operators               14\n",
      "Modelling & Simulation           14\n",
      "Air Force                        13\n",
      "Chiropractic & Osteopathic       11\n",
      "Army                              5\n",
      "Name: SubClassification, Length: 338, dtype: int64\n"
     ]
    }
   ],
   "source": [
    "for_plot = new_df['SubClassification'].value_counts()\n",
    "print(for_plot)"
   ]
  },
  {
   "cell_type": "code",
   "execution_count": 57,
   "metadata": {},
   "outputs": [
    {
     "name": "stdout",
     "output_type": "stream",
     "text": [
      "Full Time          201172\n",
      "Contract/Temp       53897\n",
      "Casual/Vacation     25353\n",
      "Part Time           21889\n",
      "Name: JobType, dtype: int64\n"
     ]
    }
   ],
   "source": [
    "# the same can also be done for the job-type column\n",
    "for_plot = new_df['JobType'].value_counts()\n",
    "print(for_plot)"
   ]
  },
  {
   "cell_type": "code",
   "execution_count": 58,
   "metadata": {},
   "outputs": [],
   "source": [
    "new_df.loc[new_df['JobType'].isna(), 'JobType'] = new_df.groupby(['TitleCategory'])['JobType'].transform(lambda x: x.mode()[0] if any(x.mode()) else np.nan)"
   ]
  },
  {
   "cell_type": "code",
   "execution_count": 59,
   "metadata": {},
   "outputs": [],
   "source": [
    "new_df.loc[new_df['JobType'].isna(), 'JobType'] = new_df.groupby(['Title'])['JobType'].transform(lambda x: x.mode()[0] if any(x.mode()) else np.nan)"
   ]
  },
  {
   "cell_type": "code",
   "execution_count": 60,
   "metadata": {},
   "outputs": [
    {
     "name": "stdout",
     "output_type": "stream",
     "text": [
      "Full Time          211003\n",
      "Contract/Temp       55648\n",
      "Casual/Vacation     26304\n",
      "Part Time           22271\n",
      "Name: JobType, dtype: int64\n"
     ]
    }
   ],
   "source": [
    "for_plot = new_df['JobType'].value_counts()\n",
    "print(for_plot)"
   ]
  },
  {
   "cell_type": "code",
   "execution_count": 61,
   "metadata": {},
   "outputs": [
    {
     "data": {
      "text/plain": [
       "Id                       0\n",
       "Title                    0\n",
       "Company                  0\n",
       "Date                     0\n",
       "Location                 0\n",
       "Area                     0\n",
       "Classification       15559\n",
       "SubClassification    15559\n",
       "Requirement              0\n",
       "FullDescription          0\n",
       "LowestSalary             0\n",
       "HighestSalary            0\n",
       "JobType               3143\n",
       "TitleCategory            0\n",
       "TitleCategory2           0\n",
       "TitleCategory3           0\n",
       "Location1                0\n",
       "Location2                0\n",
       "Location3                0\n",
       "Area1                    0\n",
       "Area2                    0\n",
       "Area3                    0\n",
       "dtype: int64"
      ]
     },
     "execution_count": 61,
     "metadata": {},
     "output_type": "execute_result"
    }
   ],
   "source": [
    "new_df.isnull().sum()"
   ]
  },
  {
   "cell_type": "code",
   "execution_count": 62,
   "metadata": {},
   "outputs": [
    {
     "data": {
      "text/plain": [
       "(318369, 22)"
      ]
     },
     "execution_count": 62,
     "metadata": {},
     "output_type": "execute_result"
    }
   ],
   "source": [
    "new_df.shape"
   ]
  },
  {
   "cell_type": "code",
   "execution_count": 63,
   "metadata": {},
   "outputs": [
    {
     "data": {
      "text/html": [
       "<div>\n",
       "<style scoped>\n",
       "    .dataframe tbody tr th:only-of-type {\n",
       "        vertical-align: middle;\n",
       "    }\n",
       "\n",
       "    .dataframe tbody tr th {\n",
       "        vertical-align: top;\n",
       "    }\n",
       "\n",
       "    .dataframe thead th {\n",
       "        text-align: right;\n",
       "    }\n",
       "</style>\n",
       "<table border=\"1\" class=\"dataframe\">\n",
       "  <thead>\n",
       "    <tr style=\"text-align: right;\">\n",
       "      <th></th>\n",
       "      <th>Id</th>\n",
       "      <th>Title</th>\n",
       "      <th>Company</th>\n",
       "      <th>Date</th>\n",
       "      <th>Location</th>\n",
       "      <th>Area</th>\n",
       "      <th>Classification</th>\n",
       "      <th>SubClassification</th>\n",
       "      <th>Requirement</th>\n",
       "      <th>FullDescription</th>\n",
       "      <th>...</th>\n",
       "      <th>JobType</th>\n",
       "      <th>TitleCategory</th>\n",
       "      <th>TitleCategory2</th>\n",
       "      <th>TitleCategory3</th>\n",
       "      <th>Location1</th>\n",
       "      <th>Location2</th>\n",
       "      <th>Location3</th>\n",
       "      <th>Area1</th>\n",
       "      <th>Area2</th>\n",
       "      <th>Area3</th>\n",
       "    </tr>\n",
       "  </thead>\n",
       "  <tbody>\n",
       "    <tr>\n",
       "      <th>0</th>\n",
       "      <td>37404348</td>\n",
       "      <td>Casual Stock Replenisher</td>\n",
       "      <td>Aldi Stores</td>\n",
       "      <td>2018-10-07</td>\n",
       "      <td>Sydney</td>\n",
       "      <td>North West &amp; Hills District</td>\n",
       "      <td>Retail &amp; Consumer Products</td>\n",
       "      <td>Retail Assistants</td>\n",
       "      <td>Our Casual Stock Replenishers Pride Themselves...</td>\n",
       "      <td>Our Casual Stock Replenishers Pride Themselves...</td>\n",
       "      <td>...</td>\n",
       "      <td>Casual/Vacation</td>\n",
       "      <td>Casual Stock Replenisher</td>\n",
       "      <td></td>\n",
       "      <td></td>\n",
       "      <td></td>\n",
       "      <td></td>\n",
       "      <td></td>\n",
       "      <td></td>\n",
       "      <td></td>\n",
       "      <td></td>\n",
       "    </tr>\n",
       "    <tr>\n",
       "      <th>1</th>\n",
       "      <td>37404337</td>\n",
       "      <td>Casual Stock Replenisher</td>\n",
       "      <td>Aldi Stores</td>\n",
       "      <td>2018-10-07</td>\n",
       "      <td>Richmond &amp; Hawkesbury</td>\n",
       "      <td></td>\n",
       "      <td>Retail &amp; Consumer Products</td>\n",
       "      <td>Retail Assistants</td>\n",
       "      <td>Our Casual Stock Replenishers Pride Themselves...</td>\n",
       "      <td>Our Casual Stock Replenishers Pride Themselves...</td>\n",
       "      <td>...</td>\n",
       "      <td>Casual/Vacation</td>\n",
       "      <td>Casual Stock Replenisher</td>\n",
       "      <td></td>\n",
       "      <td></td>\n",
       "      <td></td>\n",
       "      <td></td>\n",
       "      <td></td>\n",
       "      <td></td>\n",
       "      <td></td>\n",
       "      <td></td>\n",
       "    </tr>\n",
       "    <tr>\n",
       "      <th>2</th>\n",
       "      <td>37404356</td>\n",
       "      <td>Retail Sales Superstars And Stylists Wanted - ...</td>\n",
       "      <td>LB Creative Pty Ltd</td>\n",
       "      <td>2018-10-07</td>\n",
       "      <td>Brisbane</td>\n",
       "      <td>CBD &amp; Inner Suburbs</td>\n",
       "      <td>Retail &amp; Consumer Products</td>\n",
       "      <td>Retail Assistants</td>\n",
       "      <td>Brand New Flagship Store Opening - Sunshine Plaza</td>\n",
       "      <td>Brand New Flagship Store Opening - Sunshine Plaza</td>\n",
       "      <td>...</td>\n",
       "      <td>Casual/Vacation</td>\n",
       "      <td>Retail Sales Superstars And Stylists Wanted - ...</td>\n",
       "      <td></td>\n",
       "      <td></td>\n",
       "      <td></td>\n",
       "      <td></td>\n",
       "      <td></td>\n",
       "      <td></td>\n",
       "      <td></td>\n",
       "      <td></td>\n",
       "    </tr>\n",
       "    <tr>\n",
       "      <th>3</th>\n",
       "      <td>37404330</td>\n",
       "      <td>Team Member - Belrose</td>\n",
       "      <td>Anaconda Group Pty Ltd</td>\n",
       "      <td>2018-10-07</td>\n",
       "      <td>Gosford &amp; Central Coast</td>\n",
       "      <td></td>\n",
       "      <td>Retail &amp; Consumer Products</td>\n",
       "      <td>Retail Assistants</td>\n",
       "      <td>Bring It On - Do You Love The Great Outdoors A...</td>\n",
       "      <td>Bring It On - Do You Love The Great Outdoors A...</td>\n",
       "      <td>...</td>\n",
       "      <td>NaN</td>\n",
       "      <td>Team Member - Belrose</td>\n",
       "      <td></td>\n",
       "      <td></td>\n",
       "      <td></td>\n",
       "      <td></td>\n",
       "      <td></td>\n",
       "      <td></td>\n",
       "      <td></td>\n",
       "      <td></td>\n",
       "    </tr>\n",
       "    <tr>\n",
       "      <th>4</th>\n",
       "      <td>37404308</td>\n",
       "      <td>Business Banking Contact Centre Specialist, Ni...</td>\n",
       "      <td>Commonwealth Bank - Business &amp; Private Banking</td>\n",
       "      <td>2018-10-07</td>\n",
       "      <td>Sydney</td>\n",
       "      <td>Ryde &amp; Macquarie Park</td>\n",
       "      <td>Call Centre &amp; Customer Service</td>\n",
       "      <td>Sales - Inbound</td>\n",
       "      <td>We Are Seeking Highly Articulate, Enthusiastic...</td>\n",
       "      <td>We Are Seeking Highly Articulate, Enthusiastic...</td>\n",
       "      <td>...</td>\n",
       "      <td>NaN</td>\n",
       "      <td>Business Banking Contact Centre Specialist, Ni...</td>\n",
       "      <td></td>\n",
       "      <td></td>\n",
       "      <td>Sydney</td>\n",
       "      <td></td>\n",
       "      <td></td>\n",
       "      <td></td>\n",
       "      <td></td>\n",
       "      <td></td>\n",
       "    </tr>\n",
       "  </tbody>\n",
       "</table>\n",
       "<p>5 rows × 22 columns</p>\n",
       "</div>"
      ],
      "text/plain": [
       "         Id                                              Title  \\\n",
       "0  37404348                           Casual Stock Replenisher   \n",
       "1  37404337                           Casual Stock Replenisher   \n",
       "2  37404356  Retail Sales Superstars And Stylists Wanted - ...   \n",
       "3  37404330                              Team Member - Belrose   \n",
       "4  37404308  Business Banking Contact Centre Specialist, Ni...   \n",
       "\n",
       "                                          Company       Date  \\\n",
       "0                                     Aldi Stores 2018-10-07   \n",
       "1                                     Aldi Stores 2018-10-07   \n",
       "2                             LB Creative Pty Ltd 2018-10-07   \n",
       "3                          Anaconda Group Pty Ltd 2018-10-07   \n",
       "4  Commonwealth Bank - Business & Private Banking 2018-10-07   \n",
       "\n",
       "                  Location                         Area  \\\n",
       "0                   Sydney  North West & Hills District   \n",
       "1    Richmond & Hawkesbury                                \n",
       "2                 Brisbane          CBD & Inner Suburbs   \n",
       "3  Gosford & Central Coast                                \n",
       "4                   Sydney        Ryde & Macquarie Park   \n",
       "\n",
       "                   Classification  SubClassification  \\\n",
       "0      Retail & Consumer Products  Retail Assistants   \n",
       "1      Retail & Consumer Products  Retail Assistants   \n",
       "2      Retail & Consumer Products  Retail Assistants   \n",
       "3      Retail & Consumer Products  Retail Assistants   \n",
       "4  Call Centre & Customer Service    Sales - Inbound   \n",
       "\n",
       "                                         Requirement  \\\n",
       "0  Our Casual Stock Replenishers Pride Themselves...   \n",
       "1  Our Casual Stock Replenishers Pride Themselves...   \n",
       "2  Brand New Flagship Store Opening - Sunshine Plaza   \n",
       "3  Bring It On - Do You Love The Great Outdoors A...   \n",
       "4  We Are Seeking Highly Articulate, Enthusiastic...   \n",
       "\n",
       "                                     FullDescription  ...          JobType  \\\n",
       "0  Our Casual Stock Replenishers Pride Themselves...  ...  Casual/Vacation   \n",
       "1  Our Casual Stock Replenishers Pride Themselves...  ...  Casual/Vacation   \n",
       "2  Brand New Flagship Store Opening - Sunshine Plaza  ...  Casual/Vacation   \n",
       "3  Bring It On - Do You Love The Great Outdoors A...  ...              NaN   \n",
       "4  We Are Seeking Highly Articulate, Enthusiastic...  ...              NaN   \n",
       "\n",
       "                                       TitleCategory TitleCategory2  \\\n",
       "0                           Casual Stock Replenisher                  \n",
       "1                           Casual Stock Replenisher                  \n",
       "2  Retail Sales Superstars And Stylists Wanted - ...                  \n",
       "3                              Team Member - Belrose                  \n",
       "4  Business Banking Contact Centre Specialist, Ni...                  \n",
       "\n",
       "  TitleCategory3 Location1 Location2 Location3 Area1 Area2 Area3  \n",
       "0                                                                 \n",
       "1                                                                 \n",
       "2                                                                 \n",
       "3                                                                 \n",
       "4                   Sydney                                        \n",
       "\n",
       "[5 rows x 22 columns]"
      ]
     },
     "execution_count": 63,
     "metadata": {},
     "output_type": "execute_result"
    }
   ],
   "source": [
    "new_df[\"Company\"].fillna(\"Unknown\", inplace = True)\n",
    "new_df[\"Area\"].fillna(\"Unknown\", inplace = True)\n",
    "new_df.head()"
   ]
  },
  {
   "cell_type": "code",
   "execution_count": 64,
   "metadata": {},
   "outputs": [
    {
     "data": {
      "text/plain": [
       "(318369, 22)"
      ]
     },
     "execution_count": 64,
     "metadata": {},
     "output_type": "execute_result"
    }
   ],
   "source": [
    "new_df.to_csv('output.csv')\n",
    "new_df.shape"
   ]
  },
  {
   "cell_type": "code",
   "execution_count": 65,
   "metadata": {},
   "outputs": [
    {
     "data": {
      "text/plain": [
       "0                          Sydney\n",
       "1           Richmond & Hawkesbury\n",
       "2                        Brisbane\n",
       "3         Gosford & Central Coast\n",
       "4                          Sydney\n",
       "                   ...           \n",
       "318472                    Unknown\n",
       "318473                    Unknown\n",
       "318474                    Unknown\n",
       "318475                    Unknown\n",
       "318476                    Unknown\n",
       "Name: Location, Length: 318369, dtype: object"
      ]
     },
     "execution_count": 65,
     "metadata": {},
     "output_type": "execute_result"
    }
   ],
   "source": [
    "new_df.Location.replace('','Unknown',regex = True)"
   ]
  },
  {
   "cell_type": "code",
   "execution_count": 66,
   "metadata": {},
   "outputs": [
    {
     "data": {
      "text/plain": [
       "0         North West & Hills District\n",
       "1                             Unknown\n",
       "2                 CBD & Inner Suburbs\n",
       "3                             Unknown\n",
       "4               Ryde & Macquarie Park\n",
       "                     ...             \n",
       "318472                        Unknown\n",
       "318473                        Unknown\n",
       "318474                        Unknown\n",
       "318475                        Unknown\n",
       "318476                        Unknown\n",
       "Name: Area, Length: 318369, dtype: object"
      ]
     },
     "execution_count": 66,
     "metadata": {},
     "output_type": "execute_result"
    }
   ],
   "source": [
    "new_df.Area.replace('','Unknown',regex = True)"
   ]
  },
  {
   "cell_type": "code",
   "execution_count": 67,
   "metadata": {},
   "outputs": [
    {
     "data": {
      "text/plain": [
       "Id                       0\n",
       "Title                    0\n",
       "Company                  0\n",
       "Date                     0\n",
       "Location                 0\n",
       "Area                     0\n",
       "Classification       15559\n",
       "SubClassification    15559\n",
       "Requirement              0\n",
       "FullDescription          0\n",
       "LowestSalary             0\n",
       "HighestSalary            0\n",
       "JobType               3143\n",
       "TitleCategory            0\n",
       "TitleCategory2           0\n",
       "TitleCategory3           0\n",
       "Location1                0\n",
       "Location2                0\n",
       "Location3                0\n",
       "Area1                    0\n",
       "Area2                    0\n",
       "Area3                    0\n",
       "dtype: int64"
      ]
     },
     "execution_count": 67,
     "metadata": {},
     "output_type": "execute_result"
    }
   ],
   "source": [
    "new_df.isnull().sum()"
   ]
  },
  {
   "cell_type": "code",
   "execution_count": 68,
   "metadata": {},
   "outputs": [
    {
     "data": {
      "text/plain": [
       "Id                      0\n",
       "Title                   0\n",
       "Company                 0\n",
       "Date                    0\n",
       "Location                0\n",
       "Area                    0\n",
       "Classification          0\n",
       "SubClassification       0\n",
       "Requirement             0\n",
       "FullDescription         0\n",
       "LowestSalary            0\n",
       "HighestSalary           0\n",
       "JobType              2075\n",
       "TitleCategory           0\n",
       "TitleCategory2          0\n",
       "TitleCategory3          0\n",
       "Location1               0\n",
       "Location2               0\n",
       "Location3               0\n",
       "Area1                   0\n",
       "Area2                   0\n",
       "Area3                   0\n",
       "dtype: int64"
      ]
     },
     "execution_count": 68,
     "metadata": {},
     "output_type": "execute_result"
    }
   ],
   "source": [
    "new_df = new_df.dropna(subset = ['Classification'])\n",
    "new_df.isnull().sum()"
   ]
  },
  {
   "cell_type": "code",
   "execution_count": 69,
   "metadata": {},
   "outputs": [
    {
     "data": {
      "text/plain": [
       "Id                   0\n",
       "Title                0\n",
       "Company              0\n",
       "Date                 0\n",
       "Location             0\n",
       "Area                 0\n",
       "Classification       0\n",
       "SubClassification    0\n",
       "Requirement          0\n",
       "FullDescription      0\n",
       "LowestSalary         0\n",
       "HighestSalary        0\n",
       "JobType              0\n",
       "TitleCategory        0\n",
       "TitleCategory2       0\n",
       "TitleCategory3       0\n",
       "Location1            0\n",
       "Location2            0\n",
       "Location3            0\n",
       "Area1                0\n",
       "Area2                0\n",
       "Area3                0\n",
       "dtype: int64"
      ]
     },
     "execution_count": 69,
     "metadata": {},
     "output_type": "execute_result"
    }
   ],
   "source": [
    "new_df = new_df.dropna(subset = ['JobType'])\n",
    "new_df.isnull().sum()"
   ]
  },
  {
   "cell_type": "code",
   "execution_count": 70,
   "metadata": {},
   "outputs": [
    {
     "data": {
      "text/plain": [
       "(300735, 22)"
      ]
     },
     "execution_count": 70,
     "metadata": {},
     "output_type": "execute_result"
    }
   ],
   "source": [
    "new_df.shape"
   ]
  },
  {
   "cell_type": "code",
   "execution_count": 71,
   "metadata": {},
   "outputs": [
    {
     "data": {
      "text/plain": [
       "Id                   0\n",
       "Title                0\n",
       "Company              0\n",
       "Date                 0\n",
       "Location             0\n",
       "Area                 0\n",
       "Classification       0\n",
       "SubClassification    0\n",
       "Requirement          0\n",
       "FullDescription      0\n",
       "LowestSalary         0\n",
       "HighestSalary        0\n",
       "JobType              0\n",
       "TitleCategory        0\n",
       "TitleCategory2       0\n",
       "TitleCategory3       0\n",
       "Location1            0\n",
       "Location2            0\n",
       "Location3            0\n",
       "Area1                0\n",
       "Area2                0\n",
       "Area3                0\n",
       "dtype: int64"
      ]
     },
     "execution_count": 71,
     "metadata": {},
     "output_type": "execute_result"
    }
   ],
   "source": [
    "new_df.isnull().sum()"
   ]
  },
  {
   "cell_type": "code",
   "execution_count": 72,
   "metadata": {},
   "outputs": [],
   "source": [
    "# drop unneeded columns\n",
    "new_df = new_df.drop(['TitleCategory2'], axis = 1)\n",
    "new_df = new_df.drop(['TitleCategory3'], axis = 1)\n",
    "new_df = new_df.drop(['Location1'], axis = 1)\n",
    "new_df = new_df.drop(['Location2'], axis = 1)\n",
    "new_df = new_df.drop(['Location3'], axis = 1)\n",
    "new_df = new_df.drop(['Area1'], axis = 1)\n",
    "new_df = new_df.drop(['Area2'], axis = 1)\n",
    "new_df = new_df.drop(['Area3'], axis = 1)"
   ]
  },
  {
   "cell_type": "code",
   "execution_count": 73,
   "metadata": {},
   "outputs": [],
   "source": [
    "# create an average salary column\n",
    "new_df[\"AverageSalary\"] = (new_df[\"LowestSalary\"] + new_df[\"HighestSalary\"])/2"
   ]
  },
  {
   "cell_type": "code",
   "execution_count": 74,
   "metadata": {},
   "outputs": [
    {
     "data": {
      "text/html": [
       "<div>\n",
       "<style scoped>\n",
       "    .dataframe tbody tr th:only-of-type {\n",
       "        vertical-align: middle;\n",
       "    }\n",
       "\n",
       "    .dataframe tbody tr th {\n",
       "        vertical-align: top;\n",
       "    }\n",
       "\n",
       "    .dataframe thead th {\n",
       "        text-align: right;\n",
       "    }\n",
       "</style>\n",
       "<table border=\"1\" class=\"dataframe\">\n",
       "  <thead>\n",
       "    <tr style=\"text-align: right;\">\n",
       "      <th></th>\n",
       "      <th>Id</th>\n",
       "      <th>Title</th>\n",
       "      <th>Company</th>\n",
       "      <th>Date</th>\n",
       "      <th>Location</th>\n",
       "      <th>Area</th>\n",
       "      <th>Classification</th>\n",
       "      <th>SubClassification</th>\n",
       "      <th>Requirement</th>\n",
       "      <th>FullDescription</th>\n",
       "      <th>LowestSalary</th>\n",
       "      <th>HighestSalary</th>\n",
       "      <th>JobType</th>\n",
       "      <th>TitleCategory</th>\n",
       "      <th>AverageSalary</th>\n",
       "    </tr>\n",
       "  </thead>\n",
       "  <tbody>\n",
       "    <tr>\n",
       "      <th>0</th>\n",
       "      <td>37404348</td>\n",
       "      <td>Casual Stock Replenisher</td>\n",
       "      <td>Aldi Stores</td>\n",
       "      <td>2018-10-07</td>\n",
       "      <td>Sydney</td>\n",
       "      <td>North West &amp; Hills District</td>\n",
       "      <td>Retail &amp; Consumer Products</td>\n",
       "      <td>Retail Assistants</td>\n",
       "      <td>Our Casual Stock Replenishers Pride Themselves...</td>\n",
       "      <td>Our Casual Stock Replenishers Pride Themselves...</td>\n",
       "      <td>15.0</td>\n",
       "      <td>30</td>\n",
       "      <td>Casual/Vacation</td>\n",
       "      <td>Casual Stock Replenisher</td>\n",
       "      <td>15.0</td>\n",
       "    </tr>\n",
       "    <tr>\n",
       "      <th>1</th>\n",
       "      <td>37404337</td>\n",
       "      <td>Casual Stock Replenisher</td>\n",
       "      <td>Aldi Stores</td>\n",
       "      <td>2018-10-07</td>\n",
       "      <td>Richmond &amp; Hawkesbury</td>\n",
       "      <td></td>\n",
       "      <td>Retail &amp; Consumer Products</td>\n",
       "      <td>Retail Assistants</td>\n",
       "      <td>Our Casual Stock Replenishers Pride Themselves...</td>\n",
       "      <td>Our Casual Stock Replenishers Pride Themselves...</td>\n",
       "      <td>15.0</td>\n",
       "      <td>30</td>\n",
       "      <td>Casual/Vacation</td>\n",
       "      <td>Casual Stock Replenisher</td>\n",
       "      <td>15.0</td>\n",
       "    </tr>\n",
       "    <tr>\n",
       "      <th>2</th>\n",
       "      <td>37404356</td>\n",
       "      <td>Retail Sales Superstars And Stylists Wanted - ...</td>\n",
       "      <td>LB Creative Pty Ltd</td>\n",
       "      <td>2018-10-07</td>\n",
       "      <td>Brisbane</td>\n",
       "      <td>CBD &amp; Inner Suburbs</td>\n",
       "      <td>Retail &amp; Consumer Products</td>\n",
       "      <td>Retail Assistants</td>\n",
       "      <td>Brand New Flagship Store Opening - Sunshine Plaza</td>\n",
       "      <td>Brand New Flagship Store Opening - Sunshine Plaza</td>\n",
       "      <td>15.0</td>\n",
       "      <td>30</td>\n",
       "      <td>Casual/Vacation</td>\n",
       "      <td>Retail Sales Superstars And Stylists Wanted - ...</td>\n",
       "      <td>15.0</td>\n",
       "    </tr>\n",
       "    <tr>\n",
       "      <th>6</th>\n",
       "      <td>37404355</td>\n",
       "      <td>Casual Café All-Rounder In Semaphore</td>\n",
       "      <td>Jora Local</td>\n",
       "      <td>2018-10-07</td>\n",
       "      <td>Adelaide</td>\n",
       "      <td></td>\n",
       "      <td>Hospitality &amp; Tourism</td>\n",
       "      <td>Waiting Staff</td>\n",
       "      <td>A Cafe/Restaurant In Semaphore Is Seeking A Ca...</td>\n",
       "      <td>A Cafe/Restaurant In Semaphore Is Seeking A Ca...</td>\n",
       "      <td>15.0</td>\n",
       "      <td>30</td>\n",
       "      <td>Casual/Vacation</td>\n",
       "      <td>Casual Café All-Rounder In Semaphore</td>\n",
       "      <td>15.0</td>\n",
       "    </tr>\n",
       "    <tr>\n",
       "      <th>7</th>\n",
       "      <td>37404350</td>\n",
       "      <td>Casual Café All-Rounder In Woolloongabba</td>\n",
       "      <td>Jora Local</td>\n",
       "      <td>2018-10-07</td>\n",
       "      <td>Brisbane</td>\n",
       "      <td>CBD &amp; Inner Suburbs</td>\n",
       "      <td>Hospitality &amp; Tourism</td>\n",
       "      <td>Waiting Staff</td>\n",
       "      <td>A Cafe In Woolloongabba Is Seeking A Casual Ca...</td>\n",
       "      <td>A Cafe In Woolloongabba Is Seeking A Casual Ca...</td>\n",
       "      <td>15.0</td>\n",
       "      <td>30</td>\n",
       "      <td>Casual/Vacation</td>\n",
       "      <td>Casual Café All-Rounder In Woolloongabba</td>\n",
       "      <td>15.0</td>\n",
       "    </tr>\n",
       "  </tbody>\n",
       "</table>\n",
       "</div>"
      ],
      "text/plain": [
       "         Id                                              Title  \\\n",
       "0  37404348                           Casual Stock Replenisher   \n",
       "1  37404337                           Casual Stock Replenisher   \n",
       "2  37404356  Retail Sales Superstars And Stylists Wanted - ...   \n",
       "6  37404355               Casual Café All-Rounder In Semaphore   \n",
       "7  37404350           Casual Café All-Rounder In Woolloongabba   \n",
       "\n",
       "               Company       Date               Location  \\\n",
       "0          Aldi Stores 2018-10-07                 Sydney   \n",
       "1          Aldi Stores 2018-10-07  Richmond & Hawkesbury   \n",
       "2  LB Creative Pty Ltd 2018-10-07               Brisbane   \n",
       "6           Jora Local 2018-10-07               Adelaide   \n",
       "7           Jora Local 2018-10-07               Brisbane   \n",
       "\n",
       "                          Area              Classification  SubClassification  \\\n",
       "0  North West & Hills District  Retail & Consumer Products  Retail Assistants   \n",
       "1                               Retail & Consumer Products  Retail Assistants   \n",
       "2          CBD & Inner Suburbs  Retail & Consumer Products  Retail Assistants   \n",
       "6                                    Hospitality & Tourism      Waiting Staff   \n",
       "7          CBD & Inner Suburbs       Hospitality & Tourism      Waiting Staff   \n",
       "\n",
       "                                         Requirement  \\\n",
       "0  Our Casual Stock Replenishers Pride Themselves...   \n",
       "1  Our Casual Stock Replenishers Pride Themselves...   \n",
       "2  Brand New Flagship Store Opening - Sunshine Plaza   \n",
       "6  A Cafe/Restaurant In Semaphore Is Seeking A Ca...   \n",
       "7  A Cafe In Woolloongabba Is Seeking A Casual Ca...   \n",
       "\n",
       "                                     FullDescription  LowestSalary  \\\n",
       "0  Our Casual Stock Replenishers Pride Themselves...          15.0   \n",
       "1  Our Casual Stock Replenishers Pride Themselves...          15.0   \n",
       "2  Brand New Flagship Store Opening - Sunshine Plaza          15.0   \n",
       "6  A Cafe/Restaurant In Semaphore Is Seeking A Ca...          15.0   \n",
       "7  A Cafe In Woolloongabba Is Seeking A Casual Ca...          15.0   \n",
       "\n",
       "   HighestSalary          JobType  \\\n",
       "0             30  Casual/Vacation   \n",
       "1             30  Casual/Vacation   \n",
       "2             30  Casual/Vacation   \n",
       "6             30  Casual/Vacation   \n",
       "7             30  Casual/Vacation   \n",
       "\n",
       "                                       TitleCategory  AverageSalary  \n",
       "0                           Casual Stock Replenisher           15.0  \n",
       "1                           Casual Stock Replenisher           15.0  \n",
       "2  Retail Sales Superstars And Stylists Wanted - ...           15.0  \n",
       "6               Casual Café All-Rounder In Semaphore           15.0  \n",
       "7           Casual Café All-Rounder In Woolloongabba           15.0  "
      ]
     },
     "execution_count": 74,
     "metadata": {},
     "output_type": "execute_result"
    }
   ],
   "source": [
    "# repace all lowest salary of 0 with the average\n",
    "new_df.loc[df['LowestSalary'] == 0, 'LowestSalary'] = new_df[\"AverageSalary\"]\n",
    "new_df.head()"
   ]
  },
  {
   "cell_type": "code",
   "execution_count": 75,
   "metadata": {},
   "outputs": [
    {
     "data": {
      "text/html": [
       "<div>\n",
       "<style scoped>\n",
       "    .dataframe tbody tr th:only-of-type {\n",
       "        vertical-align: middle;\n",
       "    }\n",
       "\n",
       "    .dataframe tbody tr th {\n",
       "        vertical-align: top;\n",
       "    }\n",
       "\n",
       "    .dataframe thead th {\n",
       "        text-align: right;\n",
       "    }\n",
       "</style>\n",
       "<table border=\"1\" class=\"dataframe\">\n",
       "  <thead>\n",
       "    <tr style=\"text-align: right;\">\n",
       "      <th></th>\n",
       "      <th>Id</th>\n",
       "      <th>Title</th>\n",
       "      <th>Company</th>\n",
       "      <th>Date</th>\n",
       "      <th>Location</th>\n",
       "      <th>Area</th>\n",
       "      <th>Classification</th>\n",
       "      <th>SubClassification</th>\n",
       "      <th>Requirement</th>\n",
       "      <th>FullDescription</th>\n",
       "      <th>LowestSalary</th>\n",
       "      <th>HighestSalary</th>\n",
       "      <th>JobType</th>\n",
       "      <th>TitleCategory</th>\n",
       "      <th>AverageSalary</th>\n",
       "    </tr>\n",
       "  </thead>\n",
       "  <tbody>\n",
       "    <tr>\n",
       "      <th>0</th>\n",
       "      <td>37404348</td>\n",
       "      <td>Casual Stock Replenisher</td>\n",
       "      <td>Aldi Stores</td>\n",
       "      <td>2018-10-07</td>\n",
       "      <td>Sydney</td>\n",
       "      <td>North West &amp; Hills District</td>\n",
       "      <td>Retail &amp; Consumer Products</td>\n",
       "      <td>Retail Assistants</td>\n",
       "      <td>Our Casual Stock Replenishers Pride Themselves...</td>\n",
       "      <td>Our Casual Stock Replenishers Pride Themselves...</td>\n",
       "      <td>15.0</td>\n",
       "      <td>30</td>\n",
       "      <td>Casual/Vacation</td>\n",
       "      <td>Casual Stock Replenisher</td>\n",
       "      <td>15.0</td>\n",
       "    </tr>\n",
       "    <tr>\n",
       "      <th>1</th>\n",
       "      <td>37404337</td>\n",
       "      <td>Casual Stock Replenisher</td>\n",
       "      <td>Aldi Stores</td>\n",
       "      <td>2018-10-07</td>\n",
       "      <td>Richmond &amp; Hawkesbury</td>\n",
       "      <td></td>\n",
       "      <td>Retail &amp; Consumer Products</td>\n",
       "      <td>Retail Assistants</td>\n",
       "      <td>Our Casual Stock Replenishers Pride Themselves...</td>\n",
       "      <td>Our Casual Stock Replenishers Pride Themselves...</td>\n",
       "      <td>15.0</td>\n",
       "      <td>30</td>\n",
       "      <td>Casual/Vacation</td>\n",
       "      <td>Casual Stock Replenisher</td>\n",
       "      <td>15.0</td>\n",
       "    </tr>\n",
       "    <tr>\n",
       "      <th>2</th>\n",
       "      <td>37404356</td>\n",
       "      <td>Retail Sales Superstars And Stylists Wanted - ...</td>\n",
       "      <td>LB Creative Pty Ltd</td>\n",
       "      <td>2018-10-07</td>\n",
       "      <td>Brisbane</td>\n",
       "      <td>CBD &amp; Inner Suburbs</td>\n",
       "      <td>Retail &amp; Consumer Products</td>\n",
       "      <td>Retail Assistants</td>\n",
       "      <td>Brand New Flagship Store Opening - Sunshine Plaza</td>\n",
       "      <td>Brand New Flagship Store Opening - Sunshine Plaza</td>\n",
       "      <td>15.0</td>\n",
       "      <td>30</td>\n",
       "      <td>Casual/Vacation</td>\n",
       "      <td>Retail Sales Superstars And Stylists Wanted - ...</td>\n",
       "      <td>15.0</td>\n",
       "    </tr>\n",
       "    <tr>\n",
       "      <th>6</th>\n",
       "      <td>37404355</td>\n",
       "      <td>Casual Café All-Rounder In Semaphore</td>\n",
       "      <td>Jora Local</td>\n",
       "      <td>2018-10-07</td>\n",
       "      <td>Adelaide</td>\n",
       "      <td></td>\n",
       "      <td>Hospitality &amp; Tourism</td>\n",
       "      <td>Waiting Staff</td>\n",
       "      <td>A Cafe/Restaurant In Semaphore Is Seeking A Ca...</td>\n",
       "      <td>A Cafe/Restaurant In Semaphore Is Seeking A Ca...</td>\n",
       "      <td>15.0</td>\n",
       "      <td>30</td>\n",
       "      <td>Casual/Vacation</td>\n",
       "      <td>Casual Café All-Rounder In Semaphore</td>\n",
       "      <td>15.0</td>\n",
       "    </tr>\n",
       "    <tr>\n",
       "      <th>7</th>\n",
       "      <td>37404350</td>\n",
       "      <td>Casual Café All-Rounder In Woolloongabba</td>\n",
       "      <td>Jora Local</td>\n",
       "      <td>2018-10-07</td>\n",
       "      <td>Brisbane</td>\n",
       "      <td>CBD &amp; Inner Suburbs</td>\n",
       "      <td>Hospitality &amp; Tourism</td>\n",
       "      <td>Waiting Staff</td>\n",
       "      <td>A Cafe In Woolloongabba Is Seeking A Casual Ca...</td>\n",
       "      <td>A Cafe In Woolloongabba Is Seeking A Casual Ca...</td>\n",
       "      <td>15.0</td>\n",
       "      <td>30</td>\n",
       "      <td>Casual/Vacation</td>\n",
       "      <td>Casual Café All-Rounder In Woolloongabba</td>\n",
       "      <td>15.0</td>\n",
       "    </tr>\n",
       "  </tbody>\n",
       "</table>\n",
       "</div>"
      ],
      "text/plain": [
       "         Id                                              Title  \\\n",
       "0  37404348                           Casual Stock Replenisher   \n",
       "1  37404337                           Casual Stock Replenisher   \n",
       "2  37404356  Retail Sales Superstars And Stylists Wanted - ...   \n",
       "6  37404355               Casual Café All-Rounder In Semaphore   \n",
       "7  37404350           Casual Café All-Rounder In Woolloongabba   \n",
       "\n",
       "               Company       Date               Location  \\\n",
       "0          Aldi Stores 2018-10-07                 Sydney   \n",
       "1          Aldi Stores 2018-10-07  Richmond & Hawkesbury   \n",
       "2  LB Creative Pty Ltd 2018-10-07               Brisbane   \n",
       "6           Jora Local 2018-10-07               Adelaide   \n",
       "7           Jora Local 2018-10-07               Brisbane   \n",
       "\n",
       "                          Area              Classification  SubClassification  \\\n",
       "0  North West & Hills District  Retail & Consumer Products  Retail Assistants   \n",
       "1                               Retail & Consumer Products  Retail Assistants   \n",
       "2          CBD & Inner Suburbs  Retail & Consumer Products  Retail Assistants   \n",
       "6                                    Hospitality & Tourism      Waiting Staff   \n",
       "7          CBD & Inner Suburbs       Hospitality & Tourism      Waiting Staff   \n",
       "\n",
       "                                         Requirement  \\\n",
       "0  Our Casual Stock Replenishers Pride Themselves...   \n",
       "1  Our Casual Stock Replenishers Pride Themselves...   \n",
       "2  Brand New Flagship Store Opening - Sunshine Plaza   \n",
       "6  A Cafe/Restaurant In Semaphore Is Seeking A Ca...   \n",
       "7  A Cafe In Woolloongabba Is Seeking A Casual Ca...   \n",
       "\n",
       "                                     FullDescription  LowestSalary  \\\n",
       "0  Our Casual Stock Replenishers Pride Themselves...          15.0   \n",
       "1  Our Casual Stock Replenishers Pride Themselves...          15.0   \n",
       "2  Brand New Flagship Store Opening - Sunshine Plaza          15.0   \n",
       "6  A Cafe/Restaurant In Semaphore Is Seeking A Ca...          15.0   \n",
       "7  A Cafe In Woolloongabba Is Seeking A Casual Ca...          15.0   \n",
       "\n",
       "   HighestSalary          JobType  \\\n",
       "0             30  Casual/Vacation   \n",
       "1             30  Casual/Vacation   \n",
       "2             30  Casual/Vacation   \n",
       "6             30  Casual/Vacation   \n",
       "7             30  Casual/Vacation   \n",
       "\n",
       "                                       TitleCategory  AverageSalary  \n",
       "0                           Casual Stock Replenisher           15.0  \n",
       "1                           Casual Stock Replenisher           15.0  \n",
       "2  Retail Sales Superstars And Stylists Wanted - ...           15.0  \n",
       "6               Casual Café All-Rounder In Semaphore           15.0  \n",
       "7           Casual Café All-Rounder In Woolloongabba           15.0  "
      ]
     },
     "execution_count": 75,
     "metadata": {},
     "output_type": "execute_result"
    }
   ],
   "source": [
    "new_df.to_csv('new_df_output.csv')\n",
    "new_df.head()"
   ]
  },
  {
   "cell_type": "code",
   "execution_count": null,
   "metadata": {},
   "outputs": [],
   "source": [
    "pie_colours = ['navy', 'mediumblue', 'royalblue', 'cornflowerblue', 'skyblue', 'turquoise', 'mediumspringgreen',\n",
    "               'lime', 'greenyellow', 'yellow', 'gold']\n",
    "for_plot = df.loc[df['Location'] == 'Sydney', 'SalaryRange'].value_counts().plot.pie(y = '',\n",
    "                                                                                     figsize=(10,10),\n",
    "                                                                                     colors = pie_colours,\n",
    "                                                                                     fontsize = 16)"
   ]
  },
  {
   "cell_type": "code",
   "execution_count": 76,
   "metadata": {},
   "outputs": [
    {
     "data": {
      "image/png": "[encoded data removed]",
      "text/plain": [
       "<Figure size 720x432 with 1 Axes>"
      ]
     },
     "metadata": {},
     "output_type": "display_data"
    }
   ],
   "source": [
    "pie = new_df.groupby('JobType')['AverageSalary'].sum().sort_values(ascending=False)\n",
    "colors = ['#0038E2', '#0071C6', '#00AAAA', '#00E28E']\n",
    "explode = (0, 0.1, 0.2, 0.3)\n",
    "pie.plot(kind='pie', fontsize=12,colors=colors,explode=explode, figsize=(10, 6))\n",
    "plt.show()"
   ]
  },
  {
   "cell_type": "code",
   "execution_count": null,
   "metadata": {},
   "outputs": [],
   "source": []
  },
  {
   "cell_type": "code",
   "execution_count": 77,
   "metadata": {},
   "outputs": [
    {
     "name": "stdout",
     "output_type": "stream",
     "text": [
      "Sydney                                  75205\n",
      "                                        66937\n",
      "Melbourne                               56606\n",
      "Brisbane                                26574\n",
      "Perth                                   16963\n",
      "                                        ...  \n",
      "Yorke Peninsula & Clare Valley             95\n",
      "Tumut, Snowy & Monaro                      84\n",
      "Somerset & Lockyer                         65\n",
      "Fleurieu Peninsula & Kangaroo Island       64\n",
      "Central & South East TAS                   57\n",
      "Name: Location, Length: 66, dtype: int64\n"
     ]
    }
   ],
   "source": [
    "for_plot = new_df['Location'].value_counts()\n",
    "print(for_plot)"
   ]
  },
  {
   "cell_type": "code",
   "execution_count": 78,
   "metadata": {},
   "outputs": [
    {
     "data": {
      "text/plain": [
       "<matplotlib.axes._subplots.AxesSubplot at 0x16e7de38240>"
      ]
     },
     "execution_count": 78,
     "metadata": {},
     "output_type": "execute_result"
    },
    {
     "data": {
      "image/png": "[encoded data removed]",
      "text/plain": [
       "<Figure size 1296x504 with 1 Axes>"
      ]
     },
     "metadata": {
      "needs_background": "light"
     },
     "output_type": "display_data"
    }
   ],
   "source": [
    "#my_colours = list(islice(cycle(['mediumorchid', 'orchid', 'hotpink', 'salmon', 'coral', 'orange', 'gold', 'yellow',\n",
    "#                               'greenyellow', 'lawngreen', 'springgreen', 'turquoise', 'deepskyblue', \n",
    "#                                'mediumslateblue', 'blueviolet']), None, len(new_df)))\n",
    "my_colours = list(islice(cycle(['#0038E2', '#0071C6', '#00AAAA', '#00E28E']), None, len(new_df)))\n",
    "for_plot.plot.bar(figsize=(18,7), color=my_colours)\n",
    "#for_plot.plot.bar(figsize=(18,7))"
   ]
  },
  {
   "cell_type": "code",
   "execution_count": 79,
   "metadata": {},
   "outputs": [
    {
     "name": "stdout",
     "output_type": "stream",
     "text": [
      "Information & Communication Technology    34108\n",
      "Trades & Services                         26665\n",
      "Healthcare & Medical                      23631\n",
      "Administration & Office Support           22704\n",
      "Manufacturing, Transport & Logistics      22155\n",
      "Hospitality & Tourism                     20923\n",
      "Retail & Consumer Products                19468\n",
      "Sales                                     14721\n",
      "Accounting                                14544\n",
      "Education & Training                      11692\n",
      "Construction                              11534\n",
      "Government & Defence                      10257\n",
      "Mining, Resources & Energy                 8937\n",
      "Engineering                                8828\n",
      "Human Resources & Recruitment              6059\n",
      "Community Services & Development           5834\n",
      "Marketing & Communications                 5806\n",
      "Banking & Financial Services               5491\n",
      "Legal                                      5346\n",
      "Call Centre & Customer Service             5287\n",
      "Real Estate & Property                     4961\n",
      "Design & Architecture                      2417\n",
      "Ceo & General Management                   2348\n",
      "Insurance & Superannuation                 1696\n",
      "Consulting & Strategy                      1271\n",
      "Sport & Recreation                         1185\n",
      "Farming, Animals & Conservation             943\n",
      "Science & Technology                        924\n",
      "Advertising, Arts & Media                   897\n",
      "Self Employment                             103\n",
      "Name: Classification, dtype: int64\n"
     ]
    }
   ],
   "source": [
    "for_plot = new_df['Classification'].value_counts()\n",
    "print(for_plot)"
   ]
  },
  {
   "cell_type": "code",
   "execution_count": 80,
   "metadata": {},
   "outputs": [
    {
     "data": {
      "text/plain": [
       "<matplotlib.axes._subplots.AxesSubplot at 0x16efa18d358>"
      ]
     },
     "execution_count": 80,
     "metadata": {},
     "output_type": "execute_result"
    },
    {
     "data": {
      "image/png": "[encoded data removed]",
      "text/plain": [
       "<Figure size 1296x504 with 1 Axes>"
      ]
     },
     "metadata": {
      "needs_background": "light"
     },
     "output_type": "display_data"
    }
   ],
   "source": [
    "#my_colours = list(islice(cycle(['mediumorchid', 'orchid', 'hotpink', 'salmon', 'coral', 'orange', 'gold', 'yellow',\n",
    "#                               'greenyellow', 'lawngreen', 'springgreen', 'turquoise', 'deepskyblue', \n",
    "#                                'mediumslateblue', 'blueviolet']), None, len(new_df)))\n",
    "my_colours = list(islice(cycle(['#0038E2', '#0071C6', '#00AAAA', '#00E28E']), None, len(new_df)))\n",
    "for_plot.plot.bar(figsize=(18,7), color=my_colours)"
   ]
  }
 ],
 "metadata": {
  "kernelspec": {
   "display_name": "Python 3",
   "language": "python",
   "name": "python3"
  },
  "language_info": {
   "codemirror_mode": {
    "name": "ipython",
    "version": 3
   },
   "file_extension": ".py",
   "mimetype": "text/x-python",
   "name": "python",
   "nbconvert_exporter": "python",
   "pygments_lexer": "ipython3",
   "version": "3.6.10"
  }
 },
 "nbformat": 4,
 "nbformat_minor": 4
}
